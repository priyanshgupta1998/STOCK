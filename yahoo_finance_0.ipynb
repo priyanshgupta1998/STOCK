{
  "nbformat": 4,
  "nbformat_minor": 0,
  "metadata": {
    "colab": {
      "name": "TensorFlow with GPU",
      "version": "0.3.2",
      "provenance": [],
      "collapsed_sections": [],
      "include_colab_link": true
    },
    "kernelspec": {
      "name": "python3",
      "display_name": "Python 3"
    },
    "accelerator": "GPU"
  },
  "cells": [
    {
      "cell_type": "markdown",
      "metadata": {
        "id": "view-in-github",
        "colab_type": "text"
      },
      "source": [
        "<a href=\"https://colab.research.google.com/github/priyanshgupta1998/STOCK/blob/master/yahoo_finance_0.ipynb\" target=\"_parent\"><img src=\"https://colab.research.google.com/assets/colab-badge.svg\" alt=\"Open In Colab\"/></a>"
      ]
    },
    {
      "cell_type": "code",
      "metadata": {
        "id": "IIzA0ESGJP-m",
        "colab_type": "code",
        "colab": {}
      },
      "source": [
        ""
      ],
      "execution_count": 0,
      "outputs": []
    },
    {
      "cell_type": "markdown",
      "metadata": {
        "id": "kYnuswJ0OQQI",
        "colab_type": "text"
      },
      "source": [
        "https://in.finance.yahoo.com"
      ]
    },
    {
      "cell_type": "code",
      "metadata": {
        "id": "uvzx6IHPNHNp",
        "colab_type": "code",
        "colab": {}
      },
      "source": [
        "#!/usr/bin/python\n",
        "# -*- coding: utf-8 -*-\n",
        "import urllib.request\n",
        "import urllib.parse\n",
        "import urllib.error\n",
        "from bs4 import BeautifulSoup\n",
        "import ssl\n",
        "import json\n",
        "import ast\n",
        "import os\n",
        "from urllib.request import Request, urlopen"
      ],
      "execution_count": 0,
      "outputs": []
    },
    {
      "cell_type": "code",
      "metadata": {
        "id": "xqkw-f2fNLAU",
        "colab_type": "code",
        "colab": {}
      },
      "source": [
        "# For ignoring SSL certificate errors\n",
        "ctx = ssl.create_default_context()\n",
        "ctx.check_hostname = False\n",
        "ctx.verify_mode = ssl.CERT_NONE"
      ],
      "execution_count": 0,
      "outputs": []
    },
    {
      "cell_type": "code",
      "metadata": {
        "id": "um2HPaUSNKx4",
        "colab_type": "code",
        "colab": {
          "base_uri": "https://localhost:8080/",
          "height": 34
        },
        "outputId": "4e5a9433-088d-4551-908c-247d7ed02fed"
      },
      "source": [
        "# Input from the user\n",
        "url = input('Enter Yahoo Finance Company Url For any company - ')\n",
        "# Making the website believe that you are accessing it using a Mozilla browser\n",
        "req = Request(url, headers={'User-Agent': 'Mozilla/5.0'})\n",
        "webpage = urlopen(req).read()\n",
        "# Creating a BeautifulSoup object of the HTML page for easy extraction of data."
      ],
      "execution_count": 3,
      "outputs": [
        {
          "output_type": "stream",
          "text": [
            "Enter Yahoo Finance Company Url For any company - https://in.finance.yahoo.com/quote/msft?ltr=1\n"
          ],
          "name": "stdout"
        }
      ]
    },
    {
      "cell_type": "code",
      "metadata": {
        "id": "FKj3xnXhOdJY",
        "colab_type": "code",
        "colab": {}
      },
      "source": [
        "soup = BeautifulSoup(webpage, 'html.parser')\n",
        "html = soup.prettify('utf-8')\n",
        "#print(html)"
      ],
      "execution_count": 0,
      "outputs": []
    },
    {
      "cell_type": "code",
      "metadata": {
        "id": "Oisv7QlJOu9Z",
        "colab_type": "code",
        "colab": {
          "base_uri": "https://localhost:8080/",
          "height": 34
        },
        "outputId": "cfccdfa1-faa4-445a-c8ab-2571fd31539e"
      },
      "source": [
        "company_json = {}\n",
        "other_details = {}\n",
        "for span in soup.findAll('span', attrs={'class': 'Trsdu(0.3s) Trsdu(0.3s) Fw(b) Fz(36px) Mb(-4px) D(b)'}):\n",
        "    company_json['PRESENT_VALUE'] = span.text.strip()\n",
        "    print( span.text)"
      ],
      "execution_count": 6,
      "outputs": [
        {
          "output_type": "stream",
          "text": [
            "132.60\n"
          ],
          "name": "stdout"
        }
      ]
    },
    {
      "cell_type": "code",
      "metadata": {
        "id": "3RRei1AxO__9",
        "colab_type": "code",
        "colab": {}
      },
      "source": [
        "for div in soup.findAll('div', attrs={'class': 'D(ib) Va(t)'}):\n",
        "    for span in div.findAll('span', recursive=False):\n",
        "        company_json['PRESENT_GROWTH'] = span.text.strip()\n",
        "        print(span.text)"
      ],
      "execution_count": 0,
      "outputs": []
    },
    {
      "cell_type": "code",
      "metadata": {
        "id": "CDyAEHZePXQq",
        "colab_type": "code",
        "colab": {
          "base_uri": "https://localhost:8080/",
          "height": 34
        },
        "outputId": "9a22fc73-2627-4966-dd22-6cad5e84d523"
      },
      "source": [
        "for td in soup.findAll('td', attrs={'data-test': 'PREV_CLOSE-value'}):\n",
        "    for span in td.findAll('span', recursive=False):\n",
        "        other_details['PREV_CLOSE'] = span.text.strip()\n",
        "        print(span.text)"
      ],
      "execution_count": 11,
      "outputs": [
        {
          "output_type": "stream",
          "text": [
            "131.40\n"
          ],
          "name": "stdout"
        }
      ]
    },
    {
      "cell_type": "code",
      "metadata": {
        "id": "pcWhwKwEPeeJ",
        "colab_type": "code",
        "colab": {
          "base_uri": "https://localhost:8080/",
          "height": 34
        },
        "outputId": "3f1ae98d-e1eb-4cae-c19c-7c752d31ca81"
      },
      "source": [
        "for td in soup.findAll('td', attrs={'data-test': 'OPEN-value'}):\n",
        "    for span in td.findAll('span', recursive=False):\n",
        "        other_details['OPEN'] = span.text.strip()\n",
        "        print(span.text)"
      ],
      "execution_count": 13,
      "outputs": [
        {
          "output_type": "stream",
          "text": [
            "132.40\n"
          ],
          "name": "stdout"
        }
      ]
    },
    {
      "cell_type": "code",
      "metadata": {
        "id": "9Y6g3ox0Pldq",
        "colab_type": "code",
        "colab": {
          "base_uri": "https://localhost:8080/",
          "height": 34
        },
        "outputId": "17b9e296-080d-4451-b32c-c590170a21b1"
      },
      "source": [
        "for td in soup.findAll('td', attrs={'data-test': 'BID-value'}):\n",
        "    for span in td.findAll('span', recursive=False):\n",
        "        other_details['BID'] = span.text.strip()\n",
        "        print(span.text)"
      ],
      "execution_count": 14,
      "outputs": [
        {
          "output_type": "stream",
          "text": [
            "133.35 x 1400\n"
          ],
          "name": "stdout"
        }
      ]
    },
    {
      "cell_type": "code",
      "metadata": {
        "id": "H3riqz2rPwPO",
        "colab_type": "code",
        "colab": {
          "base_uri": "https://localhost:8080/",
          "height": 34
        },
        "outputId": "8e0d7655-8d6d-4905-e6f0-113db48b549d"
      },
      "source": [
        "for td in soup.findAll('td', attrs={'data-test': 'ASK-value'}):\n",
        "    for span in td.findAll('span', recursive=False):\n",
        "        other_details['ASK'] = span.text.strip()\n",
        "        print(span.text)"
      ],
      "execution_count": 17,
      "outputs": [
        {
          "output_type": "stream",
          "text": [
            "133.89 x 1000\n"
          ],
          "name": "stdout"
        }
      ]
    },
    {
      "cell_type": "code",
      "metadata": {
        "id": "VPLvkTkjP4pl",
        "colab_type": "code",
        "colab": {}
      },
      "source": [
        "for td in soup.findAll('td', attrs={'data-test': 'DAYS_RANGE-value'}):\n",
        "    for span in td.findAll('span', recursive=False):\n",
        "        other_details['DAYS_RANGE'] = span.text.strip()\n",
        "        print(span.text)"
      ],
      "execution_count": 0,
      "outputs": []
    },
    {
      "cell_type": "code",
      "metadata": {
        "id": "umwwR-IYP_ls",
        "colab_type": "code",
        "colab": {}
      },
      "source": [
        "for td in soup.findAll('td',attrs={'data-test': 'FIFTY_TWO_WK_RANGE-value'}):\n",
        "    for span in td.findAll('span', recursive=False):\n",
        "        other_details['FIFTY_TWO_WK_RANGE'] = span.text.strip()\n",
        "        print(span.text)"
      ],
      "execution_count": 0,
      "outputs": []
    },
    {
      "cell_type": "code",
      "metadata": {
        "id": "iaeSrzttQFiG",
        "colab_type": "code",
        "colab": {
          "base_uri": "https://localhost:8080/",
          "height": 34
        },
        "outputId": "65b57ebb-4a49-4c84-a73e-ad6ed9c6fba6"
      },
      "source": [
        "for td in soup.findAll('td', attrs={'data-test': 'TD_VOLUME-value'}):\n",
        "    for span in td.findAll('span', recursive=False):\n",
        "        other_details['TD_VOLUME'] = span.text.strip()\n",
        "        print(span.text)"
      ],
      "execution_count": 23,
      "outputs": [
        {
          "output_type": "stream",
          "text": [
            "26,477,098\n"
          ],
          "name": "stdout"
        }
      ]
    },
    {
      "cell_type": "code",
      "metadata": {
        "id": "ZfyDHxkqQOBF",
        "colab_type": "code",
        "colab": {
          "base_uri": "https://localhost:8080/",
          "height": 34
        },
        "outputId": "5c1ff0b2-2186-457f-b132-16f8e3185dcc"
      },
      "source": [
        "for td in soup.findAll('td',attrs={'data-test': 'AVERAGE_VOLUME_3MONTH-value'}):\n",
        "    for span in td.findAll('span', recursive=False):\n",
        "        other_details['AVERAGE_VOLUME_3MONTH'] = span.text.strip()\n",
        "        print(span.text)"
      ],
      "execution_count": 25,
      "outputs": [
        {
          "output_type": "stream",
          "text": [
            "25,125,546\n"
          ],
          "name": "stdout"
        }
      ]
    },
    {
      "cell_type": "code",
      "metadata": {
        "id": "0U3PTAAtQTWU",
        "colab_type": "code",
        "colab": {
          "base_uri": "https://localhost:8080/",
          "height": 34
        },
        "outputId": "f2c791ff-5cef-485e-c8e8-8e180c9d9cb5"
      },
      "source": [
        "for td in soup.findAll('td', attrs={'data-test': 'MARKET_CAP-value'}):\n",
        "    for span in td.findAll('span', recursive=False):\n",
        "        other_details['MARKET_CAP'] = span.text.strip()\n",
        "        print(span.text)"
      ],
      "execution_count": 27,
      "outputs": [
        {
          "output_type": "stream",
          "text": [
            "1.016T\n"
          ],
          "name": "stdout"
        }
      ]
    },
    {
      "cell_type": "code",
      "metadata": {
        "id": "zXbncw8IQaoP",
        "colab_type": "code",
        "colab": {
          "base_uri": "https://localhost:8080/",
          "height": 34
        },
        "outputId": "af7806e6-97fc-4717-e844-98e453c51632"
      },
      "source": [
        "for td in soup.findAll('td', attrs={'data-test': 'BETA_3Y-value'}):\n",
        "    for span in td.findAll('span', recursive=False):\n",
        "        other_details['BETA_3Y'] = span.text.strip()\n",
        "        print(span.text)"
      ],
      "execution_count": 29,
      "outputs": [
        {
          "output_type": "stream",
          "text": [
            "1.05\n"
          ],
          "name": "stdout"
        }
      ]
    },
    {
      "cell_type": "code",
      "metadata": {
        "id": "R-nb93FZQfCM",
        "colab_type": "code",
        "colab": {
          "base_uri": "https://localhost:8080/",
          "height": 34
        },
        "outputId": "d0029b54-e1a5-43b2-96ac-32571144d3ce"
      },
      "source": [
        "for td in soup.findAll('td', attrs={'data-test': 'PE_RATIO-value'}):\n",
        "    for span in td.findAll('span', recursive=False):\n",
        "        other_details['PE_RATIO'] = span.text.strip()\n",
        "        print(span.text)"
      ],
      "execution_count": 30,
      "outputs": [
        {
          "output_type": "stream",
          "text": [
            "29.46\n"
          ],
          "name": "stdout"
        }
      ]
    },
    {
      "cell_type": "code",
      "metadata": {
        "id": "J5oNe0xRQipB",
        "colab_type": "code",
        "colab": {
          "base_uri": "https://localhost:8080/",
          "height": 34
        },
        "outputId": "b52776f8-8471-453a-99ff-5407e2e2f10e"
      },
      "source": [
        "for td in soup.findAll('td', attrs={'data-test': 'EPS_RATIO-value'}):\n",
        "    for span in td.findAll('span', recursive=False):\n",
        "        other_details['EPS_RATIO'] = span.text.strip()\n",
        "        print(span.text)"
      ],
      "execution_count": 31,
      "outputs": [
        {
          "output_type": "stream",
          "text": [
            "4.50\n"
          ],
          "name": "stdout"
        }
      ]
    },
    {
      "cell_type": "code",
      "metadata": {
        "id": "spqaALBPQnpf",
        "colab_type": "code",
        "colab": {
          "base_uri": "https://localhost:8080/",
          "height": 52
        },
        "outputId": "5bfc3707-8db6-406c-e641-46fa237dece5"
      },
      "source": [
        "for td in soup.findAll('td', attrs={'data-test': 'EARNINGS_DATE-value'}):\n",
        "    other_details['EARNINGS_DATE'] = []\n",
        "    for span in td.findAll('span', recursive=False):\n",
        "        other_details['EARNINGS_DATE'].append(span.text.strip())\n",
        "        print(span.text)"
      ],
      "execution_count": 32,
      "outputs": [
        {
          "output_type": "stream",
          "text": [
            "17 Jul 2019\n",
            "22 Jul 2019\n"
          ],
          "name": "stdout"
        }
      ]
    },
    {
      "cell_type": "code",
      "metadata": {
        "id": "V0FbR07QQzBA",
        "colab_type": "code",
        "colab": {
          "base_uri": "https://localhost:8080/",
          "height": 34
        },
        "outputId": "015333d7-da6f-4530-f861-0ec056ecf0ab"
      },
      "source": [
        "for td in soup.findAll('td', attrs={'data-test': 'DIVIDEND_AND_YIELD-value'}):\n",
        "    other_details['DIVIDEND_AND_YIELD'] = td.text.strip()\n",
        "    print(td.text)"
      ],
      "execution_count": 34,
      "outputs": [
        {
          "output_type": "stream",
          "text": [
            "1.84 (1.49%)\n"
          ],
          "name": "stdout"
        }
      ]
    },
    {
      "cell_type": "code",
      "metadata": {
        "id": "GVbWD0BJQ8fC",
        "colab_type": "code",
        "colab": {
          "base_uri": "https://localhost:8080/",
          "height": 34
        },
        "outputId": "53045f0d-fcf2-4335-a9a5-9f3c791da470"
      },
      "source": [
        "for td in soup.findAll('td',attrs={'data-test': 'EX_DIVIDEND_DATE-value'}):\n",
        "    for span in td.findAll('span', recursive=False):\n",
        "        other_details['EX_DIVIDEND_DATE'] = span.text.strip()\n",
        "        print(span.text)"
      ],
      "execution_count": 36,
      "outputs": [
        {
          "output_type": "stream",
          "text": [
            "2019-05-15\n"
          ],
          "name": "stdout"
        }
      ]
    },
    {
      "cell_type": "code",
      "metadata": {
        "id": "K-W-ngtVRDx9",
        "colab_type": "code",
        "colab": {
          "base_uri": "https://localhost:8080/",
          "height": 34
        },
        "outputId": "9eb3d416-0d58-43c1-f9e8-0442e9e8e495"
      },
      "source": [
        "for td in soup.findAll('td',attrs={'data-test': 'ONE_YEAR_TARGET_PRICE-value'}):\n",
        "    for span in td.findAll('span', recursive=False):\n",
        "        other_details['ONE_YEAR_TARGET_PRICE'] = span.text.strip()\n",
        "        print(span.text)"
      ],
      "execution_count": 37,
      "outputs": [
        {
          "output_type": "stream",
          "text": [
            "143.16\n"
          ],
          "name": "stdout"
        }
      ]
    },
    {
      "cell_type": "code",
      "metadata": {
        "id": "eJyhgccGRM0V",
        "colab_type": "code",
        "colab": {}
      },
      "source": [
        "company_json['OTHER_DETAILS'] = other_details"
      ],
      "execution_count": 0,
      "outputs": []
    },
    {
      "cell_type": "code",
      "metadata": {
        "id": "ojzaObP6PMtm",
        "colab_type": "code",
        "colab": {
          "base_uri": "https://localhost:8080/",
          "height": 283
        },
        "outputId": "ef54574f-9249-456f-f839-2e14a90cd92d"
      },
      "source": [
        "company_json"
      ],
      "execution_count": 40,
      "outputs": [
        {
          "output_type": "execute_result",
          "data": {
            "text/plain": [
              "{'OTHER_DETAILS': {'ASK': '133.89 x 1000',\n",
              "  'AVERAGE_VOLUME_3MONTH': '25,125,546',\n",
              "  'BETA_3Y': '1.05',\n",
              "  'BID': '133.35 x 1400',\n",
              "  'DIVIDEND_AND_YIELD': '1.84 (1.49%)',\n",
              "  'EARNINGS_DATE': ['17 Jul 2019', '22 Jul 2019'],\n",
              "  'EPS_RATIO': '4.50',\n",
              "  'EX_DIVIDEND_DATE': '2019-05-15',\n",
              "  'MARKET_CAP': '1.016T',\n",
              "  'ONE_YEAR_TARGET_PRICE': '143.16',\n",
              "  'OPEN': '132.40',\n",
              "  'PE_RATIO': '29.46',\n",
              "  'PREV_CLOSE': '131.40',\n",
              "  'TD_VOLUME': '26,477,098'},\n",
              " 'PRESENT_VALUE': '132.60'}"
            ]
          },
          "metadata": {
            "tags": []
          },
          "execution_count": 40
        }
      ]
    },
    {
      "cell_type": "code",
      "metadata": {
        "id": "38SPNvAqNHKe",
        "colab_type": "code",
        "colab": {
          "base_uri": "https://localhost:8080/",
          "height": 265
        },
        "outputId": "020b2450-d22c-4eff-a8da-789e88b855c1"
      },
      "source": [
        "other_details"
      ],
      "execution_count": 41,
      "outputs": [
        {
          "output_type": "execute_result",
          "data": {
            "text/plain": [
              "{'ASK': '133.89 x 1000',\n",
              " 'AVERAGE_VOLUME_3MONTH': '25,125,546',\n",
              " 'BETA_3Y': '1.05',\n",
              " 'BID': '133.35 x 1400',\n",
              " 'DIVIDEND_AND_YIELD': '1.84 (1.49%)',\n",
              " 'EARNINGS_DATE': ['17 Jul 2019', '22 Jul 2019'],\n",
              " 'EPS_RATIO': '4.50',\n",
              " 'EX_DIVIDEND_DATE': '2019-05-15',\n",
              " 'MARKET_CAP': '1.016T',\n",
              " 'ONE_YEAR_TARGET_PRICE': '143.16',\n",
              " 'OPEN': '132.40',\n",
              " 'PE_RATIO': '29.46',\n",
              " 'PREV_CLOSE': '131.40',\n",
              " 'TD_VOLUME': '26,477,098'}"
            ]
          },
          "metadata": {
            "tags": []
          },
          "execution_count": 41
        }
      ]
    },
    {
      "cell_type": "code",
      "metadata": {
        "id": "Mh_tsT3PJQAt",
        "colab_type": "code",
        "colab": {
          "base_uri": "https://localhost:8080/",
          "height": 34
        },
        "outputId": "b480bff6-f2cd-4f37-8ded-58c688fdf4f3"
      },
      "source": [
        "with open('data.json', 'w') as outfile:\n",
        "    json.dump(company_json, outfile, indent=4)\n",
        "\n",
        "with open('output_file.html', 'wb') as file:\n",
        "    file.write(html)\n",
        "print('----------Extraction of data is complete. Check json file.----------')"
      ],
      "execution_count": 42,
      "outputs": [
        {
          "output_type": "stream",
          "text": [
            "----------Extraction of data is complete. Check json file.----------\n"
          ],
          "name": "stdout"
        }
      ]
    },
    {
      "cell_type": "code",
      "metadata": {
        "id": "2doCELI5JQpt",
        "colab_type": "code",
        "colab": {}
      },
      "source": [
        ""
      ],
      "execution_count": 0,
      "outputs": []
    },
    {
      "cell_type": "code",
      "metadata": {
        "id": "0zm8iJVQJQnG",
        "colab_type": "code",
        "colab": {}
      },
      "source": [
        ""
      ],
      "execution_count": 0,
      "outputs": []
    },
    {
      "cell_type": "code",
      "metadata": {
        "id": "EKjk0ED3JQkm",
        "colab_type": "code",
        "colab": {}
      },
      "source": [
        ""
      ],
      "execution_count": 0,
      "outputs": []
    },
    {
      "cell_type": "code",
      "metadata": {
        "id": "jirTczq_JQii",
        "colab_type": "code",
        "colab": {}
      },
      "source": [
        ""
      ],
      "execution_count": 0,
      "outputs": []
    },
    {
      "cell_type": "code",
      "metadata": {
        "id": "_qVqbp1tJQgn",
        "colab_type": "code",
        "colab": {}
      },
      "source": [
        ""
      ],
      "execution_count": 0,
      "outputs": []
    },
    {
      "cell_type": "code",
      "metadata": {
        "id": "rgsLdSL8JQea",
        "colab_type": "code",
        "colab": {}
      },
      "source": [
        ""
      ],
      "execution_count": 0,
      "outputs": []
    },
    {
      "cell_type": "code",
      "metadata": {
        "id": "5CW_S_GlJQce",
        "colab_type": "code",
        "colab": {}
      },
      "source": [
        ""
      ],
      "execution_count": 0,
      "outputs": []
    },
    {
      "cell_type": "code",
      "metadata": {
        "id": "-vibFsYcJQaJ",
        "colab_type": "code",
        "colab": {}
      },
      "source": [
        ""
      ],
      "execution_count": 0,
      "outputs": []
    },
    {
      "cell_type": "code",
      "metadata": {
        "id": "uj3DAB7DJQX_",
        "colab_type": "code",
        "colab": {}
      },
      "source": [
        ""
      ],
      "execution_count": 0,
      "outputs": []
    },
    {
      "cell_type": "code",
      "metadata": {
        "id": "Yaj64O2zJQVA",
        "colab_type": "code",
        "colab": {}
      },
      "source": [
        ""
      ],
      "execution_count": 0,
      "outputs": []
    },
    {
      "cell_type": "code",
      "metadata": {
        "id": "ThBpeCMQJQR4",
        "colab_type": "code",
        "colab": {}
      },
      "source": [
        ""
      ],
      "execution_count": 0,
      "outputs": []
    },
    {
      "cell_type": "code",
      "metadata": {
        "id": "c6exr3hOJQPy",
        "colab_type": "code",
        "colab": {}
      },
      "source": [
        ""
      ],
      "execution_count": 0,
      "outputs": []
    },
    {
      "cell_type": "code",
      "metadata": {
        "id": "25irWghJJQNp",
        "colab_type": "code",
        "colab": {}
      },
      "source": [
        ""
      ],
      "execution_count": 0,
      "outputs": []
    },
    {
      "cell_type": "code",
      "metadata": {
        "id": "B4J_RXonJQLU",
        "colab_type": "code",
        "colab": {}
      },
      "source": [
        ""
      ],
      "execution_count": 0,
      "outputs": []
    },
    {
      "cell_type": "code",
      "metadata": {
        "id": "N_DjHJiOJQIs",
        "colab_type": "code",
        "colab": {}
      },
      "source": [
        ""
      ],
      "execution_count": 0,
      "outputs": []
    },
    {
      "cell_type": "code",
      "metadata": {
        "id": "wH-1LNgWJQGa",
        "colab_type": "code",
        "colab": {}
      },
      "source": [
        ""
      ],
      "execution_count": 0,
      "outputs": []
    },
    {
      "cell_type": "code",
      "metadata": {
        "id": "F_hRktkcJQDn",
        "colab_type": "code",
        "colab": {}
      },
      "source": [
        ""
      ],
      "execution_count": 0,
      "outputs": []
    }
  ]
}