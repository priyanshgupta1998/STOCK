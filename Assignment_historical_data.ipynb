{
  "nbformat": 4,
  "nbformat_minor": 0,
  "metadata": {
    "colab": {
      "name": "TensorFlow with GPU",
      "version": "0.3.2",
      "provenance": [],
      "collapsed_sections": [],
      "include_colab_link": true
    },
    "kernelspec": {
      "name": "python3",
      "display_name": "Python 3"
    },
    "accelerator": "GPU"
  },
  "cells": [
    {
      "cell_type": "markdown",
      "metadata": {
        "id": "view-in-github",
        "colab_type": "text"
      },
      "source": [
        "<a href=\"https://colab.research.google.com/github/priyanshgupta1998/STOCK/blob/master/Assignment_historical_data.ipynb\" target=\"_parent\"><img src=\"https://colab.research.google.com/assets/colab-badge.svg\" alt=\"Open In Colab\"/></a>"
      ]
    },
    {
      "cell_type": "code",
      "metadata": {
        "id": "owTIyoyi0bd7",
        "colab_type": "code",
        "colab": {}
      },
      "source": [
        ""
      ],
      "execution_count": 0,
      "outputs": []
    },
    {
      "cell_type": "markdown",
      "metadata": {
        "id": "vKGfrzi4ZBoj",
        "colab_type": "text"
      },
      "source": [
        "#S&P500 historical data"
      ]
    },
    {
      "cell_type": "code",
      "metadata": {
        "id": "JA5yQy36XLom",
        "colab_type": "code",
        "colab": {
          "base_uri": "https://localhost:8080/",
          "height": 54
        },
        "outputId": "4a42f76b-47f2-4292-f84f-a32a02651a18"
      },
      "source": [
        "\n",
        "#Get all the prices(open to close) for each company \n",
        "import bs4 as bs\n",
        "import datetime as dt\n",
        "import os \n",
        "import pandas as pd\n",
        "import pandas_datareader.data as web\n",
        "import pickle\n",
        "import requests\n",
        "\n",
        "# This is a script that will get the tickers from the wikipedia list, them and save it as a pickle file\"\n",
        "def save_sp500_tickers():\n",
        "    resp = requests.get('https://en.wikipedia.org/wiki/List_of_S%26P_500_companies')\n",
        "    soup = bs.BeautifulSoup(resp.text, 'lxml')\n",
        "    table = soup.find('table', {'class': 'wikitable sortable'})\n",
        "    tickers= []\n",
        "    for row in table.findAll('tr')[1:]:\n",
        "        ticker=row.findAll('td')[0].text.split('\\n')[0]\n",
        "        #print(ticker)\n",
        "        mapping = str.maketrans(\".\",\"-\")\n",
        "        ticker = ticker.translate(mapping)\n",
        "        if ticker.find(\"_\"):\n",
        "            ticker = ticker.replace(\"_\",\"-\")\n",
        "        tickers.append(ticker)\n",
        "    with open(\"sp500tickers.pickle\", \"wb\") as f:\n",
        "        pickle.dump(tickers, f)\n",
        "\n",
        "    return tickers\n",
        "\n",
        "print(save_sp500_tickers())"
      ],
      "execution_count": 3,
      "outputs": [
        {
          "output_type": "stream",
          "text": [
            "['MMM', 'ABT', 'ABBV', 'ABMD', 'ACN', 'ATVI', 'ADBE', 'AMD', 'AAP', 'AES', 'AMG', 'AFL', 'A', 'APD', 'AKAM', 'ALK', 'ALB', 'ARE', 'ALXN', 'ALGN', 'ALLE', 'AGN', 'ADS', 'LNT', 'ALL', 'GOOGL', 'GOOG', 'MO', 'AMZN', 'AMCR', 'AEE', 'AAL', 'AEP', 'AXP', 'AIG', 'AMT', 'AWK', 'AMP', 'ABC', 'AME', 'AMGN', 'APH', 'APC', 'ADI', 'ANSS', 'ANTM', 'AON', 'AOS', 'APA', 'AIV', 'AAPL', 'AMAT', 'APTV', 'ADM', 'ARNC', 'ANET', 'AJG', 'AIZ', 'ATO', 'T', 'ADSK', 'ADP', 'AZO', 'AVB', 'AVY', 'BHGE', 'BLL', 'BAC', 'BK', 'BAX', 'BBT', 'BDX', 'BRK-B', 'BBY', 'BIIB', 'BLK', 'HRB', 'BA', 'BKNG', 'BWA', 'BXP', 'BSX', 'BMY', 'AVGO', 'BR', 'BF-B', 'CHRW', 'COG', 'CDNS', 'CPB', 'COF', 'CPRI', 'CAH', 'KMX', 'CCL', 'CAT', 'CBOE', 'CBRE', 'CBS', 'CE', 'CELG', 'CNC', 'CNP', 'CTL', 'CERN', 'CF', 'SCHW', 'CHTR', 'CVX', 'CMG', 'CB', 'CHD', 'CI', 'XEC', 'CINF', 'CTAS', 'CSCO', 'C', 'CFG', 'CTXS', 'CLX', 'CME', 'CMS', 'KO', 'CTSH', 'CL', 'CMCSA', 'CMA', 'CAG', 'CXO', 'COP', 'ED', 'STZ', 'COO', 'CPRT', 'GLW', 'CTVA', 'COST', 'COTY', 'CCI', 'CSX', 'CMI', 'CVS', 'DHI', 'DHR', 'DRI', 'DVA', 'DE', 'DAL', 'XRAY', 'DVN', 'FANG', 'DLR', 'DFS', 'DISCA', 'DISCK', 'DISH', 'DG', 'DLTR', 'D', 'DOV', 'DOW', 'DD', 'DTE', 'DRE', 'DUK', 'DXC', 'ETFC', 'EMN', 'ETN', 'EBAY', 'ECL', 'EIX', 'EW', 'EA', 'EMR', 'ETR', 'EOG', 'EFX', 'EQIX', 'EQR', 'ESS', 'EL', 'EVRG', 'ES', 'RE', 'EXC', 'EXPE', 'EXPD', 'EXR', 'XOM', 'FFIV', 'FB', 'FAST', 'FRT', 'FDX', 'FIS', 'FITB', 'FE', 'FRC', 'FISV', 'FLT', 'FLIR', 'FLS', 'FMC', 'FL', 'F', 'FTNT', 'FTV', 'FBHS', 'FOXA', 'FOX', 'BEN', 'FCX', 'GPS', 'GRMN', 'IT', 'GD', 'GE', 'GIS', 'GM', 'GPC', 'GILD', 'GPN', 'GS', 'GWW', 'HAL', 'HBI', 'HOG', 'HRS', 'HIG', 'HAS', 'HCA', 'HCP', 'HP', 'HSIC', 'HSY', 'HES', 'HPE', 'HLT', 'HFC', 'HOLX', 'HD', 'HON', 'HRL', 'HST', 'HPQ', 'HUM', 'HBAN', 'HII', 'IDXX', 'INFO', 'ITW', 'ILMN', 'IR', 'INTC', 'ICE', 'IBM', 'INCY', 'IP', 'IPG', 'IFF', 'INTU', 'ISRG', 'IVZ', 'IPGP', 'IQV', 'IRM', 'JKHY', 'JEC', 'JBHT', 'JEF', 'SJM', 'JNJ', 'JCI', 'JPM', 'JNPR', 'KSU', 'K', 'KEY', 'KEYS', 'KMB', 'KIM', 'KMI', 'KLAC', 'KSS', 'KHC', 'KR', 'LB', 'LLL', 'LH', 'LRCX', 'LW', 'LEG', 'LEN', 'LLY', 'LNC', 'LIN', 'LKQ', 'LMT', 'L', 'LOW', 'LYB', 'MTB', 'MAC', 'M', 'MRO', 'MPC', 'MAR', 'MMC', 'MLM', 'MAS', 'MA', 'MKC', 'MXIM', 'MCD', 'MCK', 'MDT', 'MRK', 'MET', 'MTD', 'MGM', 'MCHP', 'MU', 'MSFT', 'MAA', 'MHK', 'TAP', 'MDLZ', 'MNST', 'MCO', 'MS', 'MOS', 'MSI', 'MSCI', 'MYL', 'NDAQ', 'NOV', 'NKTR', 'NTAP', 'NFLX', 'NWL', 'NEM', 'NWSA', 'NWS', 'NEE', 'NLSN', 'NKE', 'NI', 'NBL', 'JWN', 'NSC', 'NTRS', 'NOC', 'NCLH', 'NRG', 'NUE', 'NVDA', 'ORLY', 'OXY', 'OMC', 'OKE', 'ORCL', 'PCAR', 'PKG', 'PH', 'PAYX', 'PYPL', 'PNR', 'PBCT', 'PEP', 'PKI', 'PRGO', 'PFE', 'PM', 'PSX', 'PNW', 'PXD', 'PNC', 'PPG', 'PPL', 'PFG', 'PG', 'PGR', 'PLD', 'PRU', 'PEG', 'PSA', 'PHM', 'PVH', 'QRVO', 'PWR', 'QCOM', 'DGX', 'RL', 'RJF', 'RTN', 'O', 'RHT', 'REG', 'REGN', 'RF', 'RSG', 'RMD', 'RHI', 'ROK', 'ROL', 'ROP', 'ROST', 'RCL', 'CRM', 'SBAC', 'SLB', 'STX', 'SEE', 'SRE', 'SHW', 'SPG', 'SWKS', 'SLG', 'SNA', 'SO', 'LUV', 'SPGI', 'SWK', 'SBUX', 'STT', 'SYK', 'STI', 'SIVB', 'SYMC', 'SYF', 'SNPS', 'SYY', 'TROW', 'TTWO', 'TPR', 'TGT', 'TEL', 'FTI', 'TFX', 'TXN', 'TXT', 'TMO', 'TIF', 'TWTR', 'TJX', 'TMK', 'TSS', 'TSCO', 'TDG', 'TRV', 'TRIP', 'TSN', 'UDR', 'ULTA', 'USB', 'UAA', 'UA', 'UNP', 'UAL', 'UNH', 'UPS', 'URI', 'UTX', 'UHS', 'UNM', 'VFC', 'VLO', 'VAR', 'VTR', 'VRSN', 'VRSK', 'VZ', 'VRTX', 'VIAB', 'V', 'VNO', 'VMC', 'WAB', 'WMT', 'WBA', 'DIS', 'WM', 'WAT', 'WEC', 'WCG', 'WFC', 'WELL', 'WDC', 'WU', 'WRK', 'WY', 'WHR', 'WMB', 'WLTW', 'WYNN', 'XEL', 'XRX', 'XLNX', 'XYL', 'YUM', 'ZBH', 'ZION', 'ZTS']\n"
          ],
          "name": "stdout"
        }
      ]
    },
    {
      "cell_type": "code",
      "metadata": {
        "id": "usqJT3mwXLlr",
        "colab_type": "code",
        "colab": {
          "base_uri": "https://localhost:8080/",
          "height": 231
        },
        "outputId": "7fb8f62b-0af8-45bf-fc27-4ec5550e30e7"
      },
      "source": [
        "#WE ARE TAKING ONLY 5 TICKERS\n",
        "import pandas as pd\n",
        "import pandas_datareader.data as web\n",
        "import datetime\n",
        "from datetime import datetime\n",
        "Ticker = pd.DataFrame()\n",
        "stocks = ['GOOGL', 'FB', 'IBM','AAPL', 'MSFT']\n",
        "print(start , end)\n",
        "for i in stocks:\n",
        "    start = datetime(2015,1,1)\n",
        "    end = datetime(2019,6,12)    \n",
        "    f = web.DataReader(i, 'yahoo',start,end)\n",
        "    df =  pd.DataFrame(f)\n",
        "    df.reset_index(inplace= True)\n",
        "    Ticker = pd.concat([Ticker , df],ignore_index = True)\n"
      ],
      "execution_count": 2,
      "outputs": [
        {
          "output_type": "error",
          "ename": "NameError",
          "evalue": "ignored",
          "traceback": [
            "\u001b[0;31m---------------------------------------------------------------------------\u001b[0m",
            "\u001b[0;31mNameError\u001b[0m                                 Traceback (most recent call last)",
            "\u001b[0;32m<ipython-input-2-6514275a3780>\u001b[0m in \u001b[0;36m<module>\u001b[0;34m()\u001b[0m\n\u001b[1;32m      5\u001b[0m \u001b[0mTicker\u001b[0m \u001b[0;34m=\u001b[0m \u001b[0mpd\u001b[0m\u001b[0;34m.\u001b[0m\u001b[0mDataFrame\u001b[0m\u001b[0;34m(\u001b[0m\u001b[0;34m)\u001b[0m\u001b[0;34m\u001b[0m\u001b[0;34m\u001b[0m\u001b[0m\n\u001b[1;32m      6\u001b[0m \u001b[0mstocks\u001b[0m \u001b[0;34m=\u001b[0m \u001b[0;34m[\u001b[0m\u001b[0;34m'GOOGL'\u001b[0m\u001b[0;34m,\u001b[0m \u001b[0;34m'FB'\u001b[0m\u001b[0;34m,\u001b[0m \u001b[0;34m'IBM'\u001b[0m\u001b[0;34m,\u001b[0m\u001b[0;34m'AAPL'\u001b[0m\u001b[0;34m,\u001b[0m \u001b[0;34m'MSFT'\u001b[0m\u001b[0;34m]\u001b[0m\u001b[0;34m\u001b[0m\u001b[0;34m\u001b[0m\u001b[0m\n\u001b[0;32m----> 7\u001b[0;31m \u001b[0mprint\u001b[0m\u001b[0;34m(\u001b[0m\u001b[0mstart\u001b[0m \u001b[0;34m,\u001b[0m \u001b[0mend\u001b[0m\u001b[0;34m)\u001b[0m\u001b[0;34m\u001b[0m\u001b[0;34m\u001b[0m\u001b[0m\n\u001b[0m\u001b[1;32m      8\u001b[0m \u001b[0;32mfor\u001b[0m \u001b[0mi\u001b[0m \u001b[0;32min\u001b[0m \u001b[0mstocks\u001b[0m\u001b[0;34m:\u001b[0m\u001b[0;34m\u001b[0m\u001b[0;34m\u001b[0m\u001b[0m\n\u001b[1;32m      9\u001b[0m     \u001b[0mstart\u001b[0m \u001b[0;34m=\u001b[0m \u001b[0mdatetime\u001b[0m\u001b[0;34m(\u001b[0m\u001b[0;36m2015\u001b[0m\u001b[0;34m,\u001b[0m\u001b[0;36m1\u001b[0m\u001b[0;34m,\u001b[0m\u001b[0;36m1\u001b[0m\u001b[0;34m)\u001b[0m\u001b[0;34m\u001b[0m\u001b[0;34m\u001b[0m\u001b[0m\n",
            "\u001b[0;31mNameError\u001b[0m: name 'start' is not defined"
          ]
        }
      ]
    },
    {
      "cell_type": "code",
      "metadata": {
        "id": "EitLWmtAXLhc",
        "colab_type": "code",
        "colab": {}
      },
      "source": [
        "print(Ticker.shape)\n",
        "Ticker.head()"
      ],
      "execution_count": 0,
      "outputs": []
    },
    {
      "cell_type": "code",
      "metadata": {
        "id": "qeJUC-yxXLeD",
        "colab_type": "code",
        "colab": {}
      },
      "source": [
        "Ticker.info()"
      ],
      "execution_count": 0,
      "outputs": []
    },
    {
      "cell_type": "markdown",
      "metadata": {
        "id": "HyyBIeF2Z1Q6",
        "colab_type": "text"
      },
      "source": [
        "#scraping yahoo finance for the data about different commodities like gold and silver."
      ]
    },
    {
      "cell_type": "code",
      "metadata": {
        "id": "qfTvctuMXLbi",
        "colab_type": "code",
        "colab": {}
      },
      "source": [
        "from bs4 import BeautifulSoup\n",
        "from requests import get\n",
        "from csv import writer\n",
        "\n",
        "prices=[]\n",
        "names=[]\n",
        "changes=[]\n",
        "percentChanges=[]\n",
        "marketCaps=[]\n",
        "totalVolumes=[]\n",
        "\n",
        " \n",
        "CryptoCurrenciesUrl = \"https://in.finance.yahoo.com/commodities\"\n",
        "r= requests.get(CryptoCurrenciesUrl)\n",
        "data=r.text\n",
        "soup=BeautifulSoup(data)\n",
        "\n",
        "for i in range(40, 404, 14):\n",
        "    for row in soup.find_all('tbody'):\n",
        "        for srow in row.find_all('tr'):\n",
        "            for name in srow.find_all('td', attrs={'class':'data-col1'}):\n",
        "                names.append(' '.join(name.text.split()[:-2]))\n",
        "            for price in srow.find_all('td', attrs={'class':'data-col2'}):\n",
        "                prices.append(price.text)\n",
        "            for change in srow.find_all('td', attrs={'class':'data-col4'}):\n",
        "                changes.append(change.text)\n",
        "            for percentChange in srow.find_all('td', attrs={'class':'data-col5'}):\n",
        "                percentChanges.append(percentChange.text)\n",
        "            for volume in srow.find_all('td', attrs={'class':'data-col6'}):\n",
        "                totalVolumes.append(volume.text)\n",
        "\n",
        "\n",
        "commodity = pd.DataFrame({\"Names\": names, \"Prices\": prices, \"Change\": changes, \"% Change\": percentChanges ,\"Volume\": totalVolumes})\n",
        "print(commodity.shape)\n",
        "commodity.head()"
      ],
      "execution_count": 0,
      "outputs": []
    },
    {
      "cell_type": "markdown",
      "metadata": {
        "id": "4yM8zLr0cNKh",
        "colab_type": "text"
      },
      "source": [
        "#currency EXCHANGE RATES"
      ]
    },
    {
      "cell_type": "code",
      "metadata": {
        "id": "xTkZCsnLZOZH",
        "colab_type": "code",
        "colab": {}
      },
      "source": [
        "names=[]\n",
        "prices=[]\n",
        "changes=[]\n",
        "percentChanges=[]\n",
        "marketCaps=[]\n",
        "totalVolumes=[]\n",
        "circulatingSupplys=[]\n",
        " \n",
        "CryptoCurrenciesUrl = \"https://in.finance.yahoo.com/currencies\"\n",
        "r= requests.get(CryptoCurrenciesUrl)\n",
        "data=r.text\n",
        "soup=BeautifulSoup(data)\n",
        "\n",
        "for i in range(40, 404, 14):\n",
        "    for listing in soup.find_all('tr', attrs={'data-reactid':i}):\n",
        "        for name in listing.find_all('td', attrs={'data-reactid':i+3}):\n",
        "            names.append(name.text)\n",
        "        for price in listing.find_all('td', attrs={'data-reactid':i+4}):\n",
        "            prices.append(price.text)\n",
        "        for change in listing.find_all('td', attrs={'data-reactid':i+5}):\n",
        "            changes.append(change.text)\n",
        "        for percentChange in listing.find_all('td', attrs={'data-reactid':i+7}):\n",
        "            percentChanges.append(percentChange.text)\n",
        "currency = pd.DataFrame({\"Names\": names, \"Prices\": prices, \"Change\": changes, \"% Change\": percentChanges})\n",
        "print(currency.shape)\n",
        "currency.head()"
      ],
      "execution_count": 0,
      "outputs": []
    },
    {
      "cell_type": "markdown",
      "metadata": {
        "id": "ZXu7mcAne0VY",
        "colab_type": "text"
      },
      "source": [
        "#Bitcoin Historical data"
      ]
    },
    {
      "cell_type": "code",
      "metadata": {
        "id": "H404Vje2ZOVC",
        "colab_type": "code",
        "colab": {}
      },
      "source": [
        "from bs4 import BeautifulSoup\n",
        "import requests\n",
        "import pandas as pd\n",
        "url = \"https://coinmarketcap.com/currencies/bitcoin/historical-data/?start=20130428&end=20180802\"\n",
        "content = requests.get(url).content\n",
        "soup = BeautifulSoup(content,'html.parser')\n",
        "table = soup.find('table', {'class': 'table'})\n",
        "data = [[td.text.strip() for td in tr.findChildren('td')] \n",
        "        for tr in table.findChildren('tr')]\n",
        "df = pd.DataFrame(data)\n",
        "df.drop(df.index[0], inplace=True) # first row is empty\n",
        "df[0] =  pd.to_datetime(df[0]) # date\n",
        "for i in range(1,7):\n",
        "    df[i] = pd.to_numeric(df[i].str.replace(\",\",\"\").str.replace(\"-\",\"\")) # some vol is missing and has -\n",
        "df.columns = ['Date','Open','High','Low','Close','Volume','Market Cap']\n",
        "df.set_index('Date',inplace=True)\n",
        "df.sort_index(inplace=True)\n",
        "print(df.shape)\n",
        "df.head()"
      ],
      "execution_count": 0,
      "outputs": []
    },
    {
      "cell_type": "code",
      "metadata": {
        "id": "c3aUA_QvZOTF",
        "colab_type": "code",
        "colab": {}
      },
      "source": [
        "df.info()"
      ],
      "execution_count": 0,
      "outputs": []
    },
    {
      "cell_type": "code",
      "metadata": {
        "id": "2CB8mC5ed4i7",
        "colab_type": "code",
        "colab": {}
      },
      "source": [
        "df.describe()"
      ],
      "execution_count": 0,
      "outputs": []
    },
    {
      "cell_type": "code",
      "metadata": {
        "id": "cHwlzuc9ZOQL",
        "colab_type": "code",
        "colab": {}
      },
      "source": [
        "df['Volume'].fillna(df['Volume'].mean(), inplace=True)\n",
        "df.head()"
      ],
      "execution_count": 0,
      "outputs": []
    },
    {
      "cell_type": "markdown",
      "metadata": {
        "id": "SpHl0mMKgD9z",
        "colab_type": "text"
      },
      "source": [
        "#All the cryptocurrencies on the yahoo finance"
      ]
    },
    {
      "cell_type": "code",
      "metadata": {
        "id": "3EVVX7QkZON4",
        "colab_type": "code",
        "colab": {}
      },
      "source": [
        "names=[]\n",
        "prices=[]\n",
        "changes=[]\n",
        "percentChanges=[]\n",
        "marketCaps=[]\n",
        "totalVolumes=[]\n",
        "circulatingSupplys=[]\n",
        "columns = []\n",
        "\n",
        "CryptoCurrenciesUrl = \"https://in.finance.yahoo.com/cryptocurrencies?offset=1\"\n",
        "r= requests.get(CryptoCurrenciesUrl)\n",
        "data=r.text\n",
        "soup=BeautifulSoup(data)\n",
        "\n",
        "for listing in soup.find_all('table', attrs={'class':'W(100%)'}):\n",
        "    for head in listing.thead.tr:\n",
        "        #print(head.text)\n",
        "        columns.append(head.text)\n",
        "\n",
        "all_data = []\n",
        "for listing in soup.find_all('tr', attrs={'class':'simpTblRow Bgc($extraLightBlue):h BdB Bdbc($finLightGrayAlt) Bdbc($tableBorderBlue):h H(32px) Bgc(white) '}):\n",
        "    liss = []\n",
        "    for data in listing:\n",
        "        liss.append(data.text)\n",
        "    all_data.append(liss)\n",
        "crypt_data = pd.DataFrame(all_data , columns = columns)\n",
        "print(crypt_data.shape)\n",
        "crypt_data.head()\n"
      ],
      "execution_count": 0,
      "outputs": []
    },
    {
      "cell_type": "code",
      "metadata": {
        "id": "1HxJI90UgQSE",
        "colab_type": "code",
        "colab": {}
      },
      "source": [
        "crypt_data.drop([ 'Volume in currency (since 0:00 UTC)',\n",
        "       'Volume in currency (24 hrs)', 'Total volume all currencies (24 hrs)','52-week range', '1-day chart'] , axis = 1 ,inplace= True)"
      ],
      "execution_count": 0,
      "outputs": []
    },
    {
      "cell_type": "code",
      "metadata": {
        "id": "R16uZWzdgWI6",
        "colab_type": "code",
        "colab": {}
      },
      "source": [
        "crypt_data.info()"
      ],
      "execution_count": 0,
      "outputs": []
    },
    {
      "cell_type": "code",
      "metadata": {
        "id": "aYIuVE2MZOKT",
        "colab_type": "code",
        "colab": {}
      },
      "source": [
        "crypt_data.head()"
      ],
      "execution_count": 0,
      "outputs": []
    },
    {
      "cell_type": "code",
      "metadata": {
        "id": "5NjBUEOBZOIO",
        "colab_type": "code",
        "colab": {}
      },
      "source": [
        "Ticker.info()"
      ],
      "execution_count": 0,
      "outputs": []
    },
    {
      "cell_type": "code",
      "metadata": {
        "id": "OPcUmnpdQQcw",
        "colab_type": "code",
        "colab": {}
      },
      "source": [
        "from __future__ import print_function\n",
        "import numpy as np # linear algebra\n",
        "import pandas as pd # data processing, CSV file I/O (e.g. pd.read_csv)\n",
        "from keras.layers.core import Dense, Activation, Dropout\n",
        "from keras.layers.recurrent import LSTM\n",
        "from keras.models import Sequential\n",
        "from sklearn.model_selection import  train_test_split\n",
        "from sklearn.preprocessing import MinMaxScaler\n",
        "from sklearn.metrics import mean_squared_error\n",
        "import matplotlib.pyplot as plt\n",
        "import math\n",
        "\n",
        "# to not display the warnings of tensorflow\n",
        "import os"
      ],
      "execution_count": 0,
      "outputs": []
    },
    {
      "cell_type": "code",
      "metadata": {
        "id": "28MTdenxZOFp",
        "colab_type": "code",
        "colab": {}
      },
      "source": [
        "googl_stock_prices = Ticker.Close.values\n",
        "googl_stock_prices = googl_stock_prices.reshape(len(googl_stock_prices), 1)"
      ],
      "execution_count": 0,
      "outputs": []
    },
    {
      "cell_type": "code",
      "metadata": {
        "id": "BVrRLoa5ZN8p",
        "colab_type": "code",
        "colab": {}
      },
      "source": [
        "# normalize the dataset\n",
        "scaler = MinMaxScaler(feature_range=(0, 1))\n",
        "googl_stock_prices = scaler.fit_transform(googl_stock_prices)"
      ],
      "execution_count": 0,
      "outputs": []
    },
    {
      "cell_type": "code",
      "metadata": {
        "id": "USa3wWHcZN5x",
        "colab_type": "code",
        "colab": {}
      },
      "source": [
        "# split data into training set and test set\n",
        "train_size = int(len(googl_stock_prices) * 0.67)\n",
        "test_size = len(googl_stock_prices) - train_size\n",
        "train, test = googl_stock_prices[0:train_size,:],googl_stock_prices[train_size:len(googl_stock_prices),:]\n"
      ],
      "execution_count": 0,
      "outputs": []
    },
    {
      "cell_type": "code",
      "metadata": {
        "id": "flqv0r4uXLOa",
        "colab_type": "code",
        "colab": {}
      },
      "source": [
        "print('Split data into training set and test set... Number of training samples/ test samples:', len(train), len(test))"
      ],
      "execution_count": 0,
      "outputs": []
    },
    {
      "cell_type": "code",
      "metadata": {
        "id": "JJMcceKLZKn6",
        "colab_type": "code",
        "colab": {}
      },
      "source": [
        "# parameters to be set (\"optimum\" hyperparameters obtained from grid search):\n",
        "look_back = 7\n",
        "epochs = 1000\n",
        "batch_size = 32\n",
        "\n",
        "def create_dataset(dataset, look_back):\n",
        "\tdataX, dataY = [], []\n",
        "\tfor i in range(len(dataset)-look_back-1):\n",
        "\t\ta = dataset[i:(i+look_back), 0]\n",
        "\t\tdataX.append(a)\n",
        "\t\tdataY.append(dataset[i + look_back, 0])\n",
        "\treturn np.array(dataX), np.array(dataY)\n",
        "\n",
        "# convert Apple's stock price data into time series dataset\n",
        "trainX, trainY = create_dataset(train, look_back)\n",
        "testX, testY = create_dataset(test, look_back)"
      ],
      "execution_count": 0,
      "outputs": []
    },
    {
      "cell_type": "code",
      "metadata": {
        "id": "Nvb0kLhFZKkj",
        "colab_type": "code",
        "colab": {}
      },
      "source": [
        "# reshape input of the LSTM to be format [samples, time steps, features]\n",
        "trainX = np.reshape(trainX, (trainX.shape[0], trainX.shape[1], 1))\n",
        "testX = np.reshape(testX, (testX.shape[0], testX.shape[1], 1))"
      ],
      "execution_count": 0,
      "outputs": []
    },
    {
      "cell_type": "code",
      "metadata": {
        "id": "rbeIxydLZKiD",
        "colab_type": "code",
        "colab": {}
      },
      "source": [
        "# create and fit the LSTM network\n",
        "model = Sequential()\n",
        "model.add(LSTM(4, input_shape=(look_back, 1)))\n",
        "model.add(Dense(1))\n",
        "model.compile(loss='mse', optimizer='adam')\n",
        "model.fit(trainX, trainY, nb_epoch=epochs, batch_size=batch_size)"
      ],
      "execution_count": 0,
      "outputs": []
    },
    {
      "cell_type": "code",
      "metadata": {
        "id": "E7uteh_VZKfT",
        "colab_type": "code",
        "colab": {}
      },
      "source": [
        "# make predictions\n",
        "trainPredict = model.predict(trainX)\n",
        "testPredict = model.predict(testX)\n"
      ],
      "execution_count": 0,
      "outputs": []
    },
    {
      "cell_type": "code",
      "metadata": {
        "id": "y3-DrDJoZKcL",
        "colab_type": "code",
        "colab": {}
      },
      "source": [
        "# invert predictions and targets to unscaled\n",
        "trainPredict = scaler.inverse_transform(trainPredict)\n",
        "trainY = scaler.inverse_transform([trainY])\n",
        "testPredict = scaler.inverse_transform(testPredict)\n",
        "testY = scaler.inverse_transform([testY])"
      ],
      "execution_count": 0,
      "outputs": []
    },
    {
      "cell_type": "code",
      "metadata": {
        "id": "ZLnJqOMa0b-Y",
        "colab_type": "code",
        "colab": {}
      },
      "source": [
        "# calculate root mean squared error\n",
        "trainScore = math.sqrt(mean_squared_error(trainY[0], trainPredict[:,0]))\n",
        "print('Train Score: %.2f RMSE' % (trainScore))\n",
        "testScore = math.sqrt(mean_squared_error(testY[0], testPredict[:,0]))\n",
        "print('Test Score: %.2f RMSE' % (testScore))"
      ],
      "execution_count": 0,
      "outputs": []
    },
    {
      "cell_type": "code",
      "metadata": {
        "id": "BgBSUmLI56Kg",
        "colab_type": "code",
        "colab": {}
      },
      "source": [
        "# shift predictions of training data for plotting\n",
        "trainPredictPlot = np.empty_like(apple_stock_prices)\n",
        "trainPredictPlot[:, :] = np.nan\n",
        "trainPredictPlot[look_back:len(trainPredict)+look_back, :] = trainPredict\n",
        "\n",
        "# shift predictions of test data for plotting\n",
        "testPredictPlot = np.empty_like(apple_stock_prices)\n",
        "testPredictPlot[:, :] = np.nan\n",
        "testPredictPlot[len(trainPredict)+(look_back*2)+1:len(apple_stock_prices)-1, :] = testPredict"
      ],
      "execution_count": 0,
      "outputs": []
    },
    {
      "cell_type": "code",
      "metadata": {
        "id": "BJ-tvGhWCG9W",
        "colab_type": "code",
        "colab": {}
      },
      "source": [
        "# plot baseline and predictions\n",
        "plt.plot(scaler.inverse_transform(apple_stock_prices))\n",
        "plt.plot(trainPredictPlot)\n",
        "plt.plot(testPredictPlot)\n",
        "plt.show()"
      ],
      "execution_count": 0,
      "outputs": []
    },
    {
      "cell_type": "code",
      "metadata": {
        "id": "unGWrZZ2A2CQ",
        "colab_type": "code",
        "colab": {}
      },
      "source": [
        ""
      ],
      "execution_count": 0,
      "outputs": []
    },
    {
      "cell_type": "code",
      "metadata": {
        "id": "bkViIWpo7Qfx",
        "colab_type": "code",
        "colab": {}
      },
      "source": [
        ""
      ],
      "execution_count": 0,
      "outputs": []
    },
    {
      "cell_type": "code",
      "metadata": {
        "id": "SuPJCP990byF",
        "colab_type": "code",
        "colab": {}
      },
      "source": [
        ""
      ],
      "execution_count": 0,
      "outputs": []
    },
    {
      "cell_type": "code",
      "metadata": {
        "id": "nTkP72xy0bwU",
        "colab_type": "code",
        "colab": {}
      },
      "source": [
        ""
      ],
      "execution_count": 0,
      "outputs": []
    },
    {
      "cell_type": "code",
      "metadata": {
        "id": "QVV5pZom0brn",
        "colab_type": "code",
        "colab": {}
      },
      "source": [
        ""
      ],
      "execution_count": 0,
      "outputs": []
    },
    {
      "cell_type": "code",
      "metadata": {
        "id": "t_PjY4Om0bgj",
        "colab_type": "code",
        "colab": {}
      },
      "source": [
        ""
      ],
      "execution_count": 0,
      "outputs": []
    }
  ]
}