{
  "nbformat": 4,
  "nbformat_minor": 0,
  "metadata": {
    "colab": {
      "name": "TensorFlow_with_GPU (7).ipynb",
      "version": "0.3.2",
      "provenance": [],
      "collapsed_sections": [],
      "include_colab_link": true
    },
    "kernelspec": {
      "name": "python3",
      "display_name": "Python 3"
    },
    "accelerator": "GPU"
  },
  "cells": [
    {
      "cell_type": "markdown",
      "metadata": {
        "id": "view-in-github",
        "colab_type": "text"
      },
      "source": [
        "<a href=\"https://colab.research.google.com/github/priyanshgupta1998/STOCK/blob/master/Remotely_data_access.ipynb\" target=\"_parent\"><img src=\"https://colab.research.google.com/assets/colab-badge.svg\" alt=\"Open In Colab\"/></a>"
      ]
    },
    {
      "metadata": {
        "id": "ocr24mn2HPah",
        "colab_type": "text"
      },
      "cell_type": "markdown",
      "source": [
        "Can learn from here\n",
        "\n",
        "https://pandas-datareader.readthedocs.io/en/latest/remote_data.html"
      ]
    },
    {
      "metadata": {
        "id": "3RMMxgUUmNz0",
        "colab_type": "text"
      },
      "cell_type": "markdown",
      "source": [
        "#Pandas - Datareader() \n",
        "\n",
        "\n",
        "```\n",
        "Remotely access the dataset\n",
        "```\n",
        "\n"
      ]
    },
    {
      "metadata": {
        "id": "D08y9zuBmp1-",
        "colab_type": "text"
      },
      "cell_type": "markdown",
      "source": [
        "# Remote Data Access\n",
        "\n",
        "Google Finance  \n",
        "Morningstar   \n",
        "IEX     \n",
        "Robinhood   \n",
        "Enigma    \n",
        "Quandl    \n",
        "St.Louis FED (FRED)   \n",
        "Kenneth French’s data library    \n",
        "World Bank   \n",
        "OECD   \n",
        "Eurostat    \n",
        "Thrift Savings Plan    \n",
        "Nasdaq Trader symbol definitions   \n",
        "Stooq    \n",
        "MOEX    \n"
      ]
    },
    {
      "metadata": {
        "id": "NmwadUKanA6I",
        "colab_type": "text"
      },
      "cell_type": "markdown",
      "source": [
        "**1. MOEX**\n",
        "\n",
        "\n",
        "\n",
        "```\n",
        "Moscow Exchange, the largest exchange group in Russia, operates trading markets in equities, bonds, derivatives, the foreign exchange market, money markets and precious metals.\n",
        "``` \n",
        "https://www.moex.com/en/           \n",
        "this website is related to stock marketing  \n"
      ]
    },
    {
      "metadata": {
        "id": "jnBOqX11m_qx",
        "colab_type": "code",
        "colab": {
          "base_uri": "https://localhost:8080/",
          "height": 51
        },
        "outputId": "63bb38d8-74b0-4a02-e6bf-c4ecaae97aa1"
      },
      "cell_type": "code",
      "source": [
        "import pandas_datareader.data as web\n",
        "import datetime\n",
        "start = datetime.datetime(2010, 1, 1)\n",
        "end = datetime.datetime(2013, 1, 1)\n",
        "print(start)\n",
        "print(end)"
      ],
      "execution_count": 1,
      "outputs": [
        {
          "output_type": "stream",
          "text": [
            "2010-01-01 00:00:00\n",
            "2013-01-01 00:00:00\n"
          ],
          "name": "stdout"
        }
      ]
    },
    {
      "metadata": {
        "id": "qcwZ1wFmm_ow",
        "colab_type": "code",
        "colab": {
          "base_uri": "https://localhost:8080/",
          "height": 235
        },
        "outputId": "b7e59ac0-8b9b-4d15-9852-652669f64eb1"
      },
      "cell_type": "code",
      "source": [
        "f = web.DataReader('UAH000000TOM', 'moex', start, end)\n",
        "f.head()"
      ],
      "execution_count": 9,
      "outputs": [
        {
          "output_type": "execute_result",
          "data": {
            "text/html": [
              "<div>\n",
              "<style scoped>\n",
              "    .dataframe tbody tr th:only-of-type {\n",
              "        vertical-align: middle;\n",
              "    }\n",
              "\n",
              "    .dataframe tbody tr th {\n",
              "        vertical-align: top;\n",
              "    }\n",
              "\n",
              "    .dataframe thead th {\n",
              "        text-align: right;\n",
              "    }\n",
              "</style>\n",
              "<table border=\"1\" class=\"dataframe\">\n",
              "  <thead>\n",
              "    <tr style=\"text-align: right;\">\n",
              "      <th></th>\n",
              "      <th>BOARDID</th>\n",
              "      <th>SHORTNAME</th>\n",
              "      <th>SECID</th>\n",
              "      <th>OPEN</th>\n",
              "      <th>LOW</th>\n",
              "      <th>HIGH</th>\n",
              "      <th>CLOSE</th>\n",
              "      <th>NUMTRADES</th>\n",
              "      <th>VOLRUR</th>\n",
              "      <th>WAPRICE</th>\n",
              "    </tr>\n",
              "    <tr>\n",
              "      <th>TRADEDATE</th>\n",
              "      <th></th>\n",
              "      <th></th>\n",
              "      <th></th>\n",
              "      <th></th>\n",
              "      <th></th>\n",
              "      <th></th>\n",
              "      <th></th>\n",
              "      <th></th>\n",
              "      <th></th>\n",
              "      <th></th>\n",
              "    </tr>\n",
              "  </thead>\n",
              "  <tbody>\n",
              "    <tr>\n",
              "      <th>2010-01-12</th>\n",
              "      <td>CETS</td>\n",
              "      <td>UAHRUB_TOD</td>\n",
              "      <td>UAH000000TOM</td>\n",
              "      <td>0.0</td>\n",
              "      <td>0</td>\n",
              "      <td>0</td>\n",
              "      <td>0.0</td>\n",
              "      <td>0</td>\n",
              "      <td>0</td>\n",
              "      <td>5.11</td>\n",
              "    </tr>\n",
              "    <tr>\n",
              "      <th>2010-01-13</th>\n",
              "      <td>CETS</td>\n",
              "      <td>UAHRUB_TOD</td>\n",
              "      <td>UAH000000TOM</td>\n",
              "      <td>0.0</td>\n",
              "      <td>0</td>\n",
              "      <td>0</td>\n",
              "      <td>0.0</td>\n",
              "      <td>0</td>\n",
              "      <td>0</td>\n",
              "      <td>5.11</td>\n",
              "    </tr>\n",
              "    <tr>\n",
              "      <th>2010-01-14</th>\n",
              "      <td>CETS</td>\n",
              "      <td>UAHRUB_TOD</td>\n",
              "      <td>UAH000000TOM</td>\n",
              "      <td>0.0</td>\n",
              "      <td>0</td>\n",
              "      <td>0</td>\n",
              "      <td>0.0</td>\n",
              "      <td>0</td>\n",
              "      <td>0</td>\n",
              "      <td>5.11</td>\n",
              "    </tr>\n",
              "    <tr>\n",
              "      <th>2010-01-15</th>\n",
              "      <td>CETS</td>\n",
              "      <td>UAHRUB_TOD</td>\n",
              "      <td>UAH000000TOM</td>\n",
              "      <td>0.0</td>\n",
              "      <td>0</td>\n",
              "      <td>0</td>\n",
              "      <td>0.0</td>\n",
              "      <td>0</td>\n",
              "      <td>0</td>\n",
              "      <td>5.11</td>\n",
              "    </tr>\n",
              "    <tr>\n",
              "      <th>2010-01-18</th>\n",
              "      <td>CETS</td>\n",
              "      <td>UAHRUB_TOD</td>\n",
              "      <td>UAH000000TOM</td>\n",
              "      <td>0.0</td>\n",
              "      <td>0</td>\n",
              "      <td>0</td>\n",
              "      <td>0.0</td>\n",
              "      <td>0</td>\n",
              "      <td>0</td>\n",
              "      <td>5.11</td>\n",
              "    </tr>\n",
              "  </tbody>\n",
              "</table>\n",
              "</div>"
            ],
            "text/plain": [
              "           BOARDID   SHORTNAME         SECID  OPEN  LOW  HIGH  CLOSE  \\\n",
              "TRADEDATE                                                              \n",
              "2010-01-12    CETS  UAHRUB_TOD  UAH000000TOM   0.0    0     0    0.0   \n",
              "2010-01-13    CETS  UAHRUB_TOD  UAH000000TOM   0.0    0     0    0.0   \n",
              "2010-01-14    CETS  UAHRUB_TOD  UAH000000TOM   0.0    0     0    0.0   \n",
              "2010-01-15    CETS  UAHRUB_TOD  UAH000000TOM   0.0    0     0    0.0   \n",
              "2010-01-18    CETS  UAHRUB_TOD  UAH000000TOM   0.0    0     0    0.0   \n",
              "\n",
              "            NUMTRADES  VOLRUR  WAPRICE  \n",
              "TRADEDATE                               \n",
              "2010-01-12          0       0     5.11  \n",
              "2010-01-13          0       0     5.11  \n",
              "2010-01-14          0       0     5.11  \n",
              "2010-01-15          0       0     5.11  \n",
              "2010-01-18          0       0     5.11  "
            ]
          },
          "metadata": {
            "tags": []
          },
          "execution_count": 9
        }
      ]
    },
    {
      "metadata": {
        "id": "PVASPbT8vlBp",
        "colab_type": "code",
        "colab": {
          "base_uri": "https://localhost:8080/",
          "height": 51
        },
        "outputId": "e793f3d8-86db-4773-e761-b63679c6e0c0"
      },
      "cell_type": "code",
      "source": [
        "print(len(f))\n",
        "print(f.shape)"
      ],
      "execution_count": 10,
      "outputs": [
        {
          "output_type": "stream",
          "text": [
            "973\n",
            "(973, 10)\n"
          ],
          "name": "stdout"
        }
      ]
    },
    {
      "metadata": {
        "id": "gV0XU227vu8I",
        "colab_type": "text"
      },
      "cell_type": "markdown",
      "source": [
        "**2. Stooq Index Data**\n",
        "\n",
        "https://stooq.pl\n",
        "This website shows  live stock market prices "
      ]
    },
    {
      "metadata": {
        "id": "qgXcCjfYvk-M",
        "colab_type": "code",
        "colab": {
          "base_uri": "https://localhost:8080/",
          "height": 63
        },
        "outputId": "efcff783-358c-4a6a-dc61-2d6b7bfa340a"
      },
      "cell_type": "code",
      "source": [
        "import pandas_datareader.data as web\n",
        "f = web.DataReader('^DJI', 'stooq')\n",
        "f[:10]"
      ],
      "execution_count": 18,
      "outputs": [
        {
          "output_type": "execute_result",
          "data": {
            "text/html": [
              "<div>\n",
              "<style scoped>\n",
              "    .dataframe tbody tr th:only-of-type {\n",
              "        vertical-align: middle;\n",
              "    }\n",
              "\n",
              "    .dataframe tbody tr th {\n",
              "        vertical-align: top;\n",
              "    }\n",
              "\n",
              "    .dataframe thead th {\n",
              "        text-align: right;\n",
              "    }\n",
              "</style>\n",
              "<table border=\"1\" class=\"dataframe\">\n",
              "  <thead>\n",
              "    <tr style=\"text-align: right;\">\n",
              "      <th></th>\n",
              "    </tr>\n",
              "    <tr>\n",
              "      <th>No data</th>\n",
              "    </tr>\n",
              "  </thead>\n",
              "  <tbody>\n",
              "  </tbody>\n",
              "</table>\n",
              "</div>"
            ],
            "text/plain": [
              "Empty DataFrame\n",
              "Columns: []\n",
              "Index: []"
            ]
          },
          "metadata": {
            "tags": []
          },
          "execution_count": 18
        }
      ]
    },
    {
      "metadata": {
        "id": "NgZ9t9Iww_P8",
        "colab_type": "text"
      },
      "cell_type": "markdown",
      "source": [
        "**3. TSP Fund Data**\n",
        "\n",
        "(THRIFT SAVING PLAN :-)     \n",
        "Download mutual fund index prices for the TSP\n",
        "\n",
        "https://www.tsp.gov/index.html"
      ]
    },
    {
      "metadata": {
        "id": "naJjwGP5vk3x",
        "colab_type": "code",
        "colab": {
          "base_uri": "https://localhost:8080/",
          "height": 235
        },
        "outputId": "c46817ad-c006-4c00-d308-c4817262b357"
      },
      "cell_type": "code",
      "source": [
        "import pandas_datareader.tsp as tsp\n",
        "tspreader = tsp.TSPReader(start='2015-10-1', end='2015-12-31')\n",
        "df = tspreader.read()\n",
        "df.head()"
      ],
      "execution_count": 23,
      "outputs": [
        {
          "output_type": "execute_result",
          "data": {
            "text/html": [
              "<div>\n",
              "<style scoped>\n",
              "    .dataframe tbody tr th:only-of-type {\n",
              "        vertical-align: middle;\n",
              "    }\n",
              "\n",
              "    .dataframe tbody tr th {\n",
              "        vertical-align: top;\n",
              "    }\n",
              "\n",
              "    .dataframe thead th {\n",
              "        text-align: right;\n",
              "    }\n",
              "</style>\n",
              "<table border=\"1\" class=\"dataframe\">\n",
              "  <thead>\n",
              "    <tr style=\"text-align: right;\">\n",
              "      <th></th>\n",
              "      <th>L Income</th>\n",
              "      <th>L 2020</th>\n",
              "      <th>L 2030</th>\n",
              "      <th>L 2040</th>\n",
              "      <th>L 2050</th>\n",
              "      <th>G Fund</th>\n",
              "      <th>F Fund</th>\n",
              "      <th>C Fund</th>\n",
              "      <th>S Fund</th>\n",
              "      <th>I Fund</th>\n",
              "      <th></th>\n",
              "    </tr>\n",
              "    <tr>\n",
              "      <th>date</th>\n",
              "      <th></th>\n",
              "      <th></th>\n",
              "      <th></th>\n",
              "      <th></th>\n",
              "      <th></th>\n",
              "      <th></th>\n",
              "      <th></th>\n",
              "      <th></th>\n",
              "      <th></th>\n",
              "      <th></th>\n",
              "      <th></th>\n",
              "    </tr>\n",
              "  </thead>\n",
              "  <tbody>\n",
              "    <tr>\n",
              "      <th>2015-10-01</th>\n",
              "      <td>17.5164</td>\n",
              "      <td>22.5789</td>\n",
              "      <td>24.2159</td>\n",
              "      <td>25.5690</td>\n",
              "      <td>14.4009</td>\n",
              "      <td>14.8380</td>\n",
              "      <td>17.0467</td>\n",
              "      <td>25.7953</td>\n",
              "      <td>34.0993</td>\n",
              "      <td>23.3202</td>\n",
              "      <td>NaN</td>\n",
              "    </tr>\n",
              "    <tr>\n",
              "      <th>2015-10-02</th>\n",
              "      <td>17.5707</td>\n",
              "      <td>22.7413</td>\n",
              "      <td>24.4472</td>\n",
              "      <td>25.8518</td>\n",
              "      <td>14.5805</td>\n",
              "      <td>14.8388</td>\n",
              "      <td>17.0924</td>\n",
              "      <td>26.1669</td>\n",
              "      <td>34.6504</td>\n",
              "      <td>23.6367</td>\n",
              "      <td></td>\n",
              "    </tr>\n",
              "    <tr>\n",
              "      <th>2015-10-05</th>\n",
              "      <td>17.6395</td>\n",
              "      <td>22.9582</td>\n",
              "      <td>24.7571</td>\n",
              "      <td>26.2306</td>\n",
              "      <td>14.8233</td>\n",
              "      <td>14.8413</td>\n",
              "      <td>17.0531</td>\n",
              "      <td>26.6467</td>\n",
              "      <td>35.3565</td>\n",
              "      <td>24.1475</td>\n",
              "      <td></td>\n",
              "    </tr>\n",
              "    <tr>\n",
              "      <th>2015-10-06</th>\n",
              "      <td>17.6338</td>\n",
              "      <td>22.9390</td>\n",
              "      <td>24.7268</td>\n",
              "      <td>26.1898</td>\n",
              "      <td>14.7979</td>\n",
              "      <td>14.8421</td>\n",
              "      <td>17.0790</td>\n",
              "      <td>26.5513</td>\n",
              "      <td>35.1320</td>\n",
              "      <td>24.2294</td>\n",
              "      <td></td>\n",
              "    </tr>\n",
              "    <tr>\n",
              "      <th>2015-10-07</th>\n",
              "      <td>17.6639</td>\n",
              "      <td>23.0324</td>\n",
              "      <td>24.8629</td>\n",
              "      <td>26.3598</td>\n",
              "      <td>14.9063</td>\n",
              "      <td>14.8429</td>\n",
              "      <td>17.0725</td>\n",
              "      <td>26.7751</td>\n",
              "      <td>35.6035</td>\n",
              "      <td>24.3671</td>\n",
              "      <td></td>\n",
              "    </tr>\n",
              "  </tbody>\n",
              "</table>\n",
              "</div>"
            ],
            "text/plain": [
              "            L Income   L 2020   L 2030   L 2040   L 2050   G Fund   F Fund  \\\n",
              "date                                                                         \n",
              "2015-10-01   17.5164  22.5789  24.2159  25.5690  14.4009  14.8380  17.0467   \n",
              "2015-10-02   17.5707  22.7413  24.4472  25.8518  14.5805  14.8388  17.0924   \n",
              "2015-10-05   17.6395  22.9582  24.7571  26.2306  14.8233  14.8413  17.0531   \n",
              "2015-10-06   17.6338  22.9390  24.7268  26.1898  14.7979  14.8421  17.0790   \n",
              "2015-10-07   17.6639  23.0324  24.8629  26.3598  14.9063  14.8429  17.0725   \n",
              "\n",
              "             C Fund   S Fund   I Fund       \n",
              "date                                        \n",
              "2015-10-01  25.7953  34.0993  23.3202  NaN  \n",
              "2015-10-02  26.1669  34.6504  23.6367       \n",
              "2015-10-05  26.6467  35.3565  24.1475       \n",
              "2015-10-06  26.5513  35.1320  24.2294       \n",
              "2015-10-07  26.7751  35.6035  24.3671       "
            ]
          },
          "metadata": {
            "tags": []
          },
          "execution_count": 23
        }
      ]
    },
    {
      "metadata": {
        "id": "vM_3VV9mzwqW",
        "colab_type": "text"
      },
      "cell_type": "markdown",
      "source": [
        "**4. Eurostat**\n",
        "\n",
        " Its main responsibilities are to provide statistical information to the institutions of the European Union\n",
        " \n",
        "https://ec.europa.eu/eurostat     "
      ]
    },
    {
      "metadata": {
        "id": "GFqXdteJvkyg",
        "colab_type": "code",
        "colab": {
          "base_uri": "https://localhost:8080/",
          "height": 153
        },
        "outputId": "516adc80-c334-42fe-e3a5-d68941bdef92"
      },
      "cell_type": "code",
      "source": [
        "#Get Rail accidents dataset\n",
        "df = web.DataReader('tran_sf_railac', 'eurostat')\n",
        "print(df.shape)\n",
        "df.values"
      ],
      "execution_count": 34,
      "outputs": [
        {
          "output_type": "stream",
          "text": [
            "(8, 264)\n"
          ],
          "name": "stdout"
        },
        {
          "output_type": "execute_result",
          "data": {
            "text/plain": [
              "array([[ 3.,  5.,  2., ..., nan,  0., nan],\n",
              "       [ 2.,  0.,  0., ..., nan,  0., nan],\n",
              "       [ 1.,  3.,  3., ..., nan,  0., nan],\n",
              "       ...,\n",
              "       [ 7.,  0.,  3., ..., nan,  0., nan],\n",
              "       [ 7.,  2.,  3., ..., nan,  0., nan],\n",
              "       [ 7.,  1.,  1., ..., nan,  0., nan]])"
            ]
          },
          "metadata": {
            "tags": []
          },
          "execution_count": 34
        }
      ]
    },
    {
      "metadata": {
        "id": "9juATvY9vku1",
        "colab_type": "code",
        "colab": {
          "base_uri": "https://localhost:8080/",
          "height": 417
        },
        "outputId": "df8402b7-b6fc-4c09-e183-28e611842cd6"
      },
      "cell_type": "code",
      "source": [
        "df.head(3)"
      ],
      "execution_count": 35,
      "outputs": [
        {
          "output_type": "execute_result",
          "data": {
            "text/html": [
              "<div>\n",
              "<style scoped>\n",
              "    .dataframe tbody tr th:only-of-type {\n",
              "        vertical-align: middle;\n",
              "    }\n",
              "\n",
              "    .dataframe tbody tr th {\n",
              "        vertical-align: top;\n",
              "    }\n",
              "\n",
              "    .dataframe thead tr th {\n",
              "        text-align: left;\n",
              "    }\n",
              "\n",
              "    .dataframe thead tr:last-of-type th {\n",
              "        text-align: right;\n",
              "    }\n",
              "</style>\n",
              "<table border=\"1\" class=\"dataframe\">\n",
              "  <thead>\n",
              "    <tr>\n",
              "      <th>ACCIDENT</th>\n",
              "      <th colspan=\"10\" halign=\"left\">Collisions of trains, including collisions with obstacles within the clearance gauge</th>\n",
              "      <th>...</th>\n",
              "      <th colspan=\"10\" halign=\"left\">Unknown</th>\n",
              "    </tr>\n",
              "    <tr>\n",
              "      <th>UNIT</th>\n",
              "      <th colspan=\"10\" halign=\"left\">Number</th>\n",
              "      <th>...</th>\n",
              "      <th colspan=\"10\" halign=\"left\">Number</th>\n",
              "    </tr>\n",
              "    <tr>\n",
              "      <th>GEO</th>\n",
              "      <th>Austria</th>\n",
              "      <th>Belgium</th>\n",
              "      <th>Bulgaria</th>\n",
              "      <th>Switzerland</th>\n",
              "      <th>Channel Tunnel</th>\n",
              "      <th>Czechia</th>\n",
              "      <th>Germany (until 1990 former territory of the FRG)</th>\n",
              "      <th>Denmark</th>\n",
              "      <th>Estonia</th>\n",
              "      <th>Greece</th>\n",
              "      <th>...</th>\n",
              "      <th>Netherlands</th>\n",
              "      <th>Norway</th>\n",
              "      <th>Poland</th>\n",
              "      <th>Portugal</th>\n",
              "      <th>Romania</th>\n",
              "      <th>Sweden</th>\n",
              "      <th>Slovenia</th>\n",
              "      <th>Slovakia</th>\n",
              "      <th>Turkey</th>\n",
              "      <th>United Kingdom</th>\n",
              "    </tr>\n",
              "    <tr>\n",
              "      <th>FREQ</th>\n",
              "      <th>Annual</th>\n",
              "      <th>Annual</th>\n",
              "      <th>Annual</th>\n",
              "      <th>Annual</th>\n",
              "      <th>Annual</th>\n",
              "      <th>Annual</th>\n",
              "      <th>Annual</th>\n",
              "      <th>Annual</th>\n",
              "      <th>Annual</th>\n",
              "      <th>Annual</th>\n",
              "      <th>...</th>\n",
              "      <th>Annual</th>\n",
              "      <th>Annual</th>\n",
              "      <th>Annual</th>\n",
              "      <th>Annual</th>\n",
              "      <th>Annual</th>\n",
              "      <th>Annual</th>\n",
              "      <th>Annual</th>\n",
              "      <th>Annual</th>\n",
              "      <th>Annual</th>\n",
              "      <th>Annual</th>\n",
              "    </tr>\n",
              "    <tr>\n",
              "      <th>TIME_PERIOD</th>\n",
              "      <th></th>\n",
              "      <th></th>\n",
              "      <th></th>\n",
              "      <th></th>\n",
              "      <th></th>\n",
              "      <th></th>\n",
              "      <th></th>\n",
              "      <th></th>\n",
              "      <th></th>\n",
              "      <th></th>\n",
              "      <th></th>\n",
              "      <th></th>\n",
              "      <th></th>\n",
              "      <th></th>\n",
              "      <th></th>\n",
              "      <th></th>\n",
              "      <th></th>\n",
              "      <th></th>\n",
              "      <th></th>\n",
              "      <th></th>\n",
              "      <th></th>\n",
              "    </tr>\n",
              "  </thead>\n",
              "  <tbody>\n",
              "    <tr>\n",
              "      <th>2010-01-01</th>\n",
              "      <td>3.0</td>\n",
              "      <td>5.0</td>\n",
              "      <td>2.0</td>\n",
              "      <td>5.0</td>\n",
              "      <td>0.0</td>\n",
              "      <td>3.0</td>\n",
              "      <td>13.0</td>\n",
              "      <td>0.0</td>\n",
              "      <td>1.0</td>\n",
              "      <td>4.0</td>\n",
              "      <td>...</td>\n",
              "      <td>NaN</td>\n",
              "      <td>NaN</td>\n",
              "      <td>NaN</td>\n",
              "      <td>NaN</td>\n",
              "      <td>NaN</td>\n",
              "      <td>NaN</td>\n",
              "      <td>NaN</td>\n",
              "      <td>NaN</td>\n",
              "      <td>0.0</td>\n",
              "      <td>NaN</td>\n",
              "    </tr>\n",
              "    <tr>\n",
              "      <th>2011-01-01</th>\n",
              "      <td>2.0</td>\n",
              "      <td>0.0</td>\n",
              "      <td>0.0</td>\n",
              "      <td>4.0</td>\n",
              "      <td>0.0</td>\n",
              "      <td>6.0</td>\n",
              "      <td>18.0</td>\n",
              "      <td>1.0</td>\n",
              "      <td>0.0</td>\n",
              "      <td>1.0</td>\n",
              "      <td>...</td>\n",
              "      <td>NaN</td>\n",
              "      <td>NaN</td>\n",
              "      <td>NaN</td>\n",
              "      <td>NaN</td>\n",
              "      <td>NaN</td>\n",
              "      <td>NaN</td>\n",
              "      <td>NaN</td>\n",
              "      <td>NaN</td>\n",
              "      <td>0.0</td>\n",
              "      <td>NaN</td>\n",
              "    </tr>\n",
              "    <tr>\n",
              "      <th>2012-01-01</th>\n",
              "      <td>1.0</td>\n",
              "      <td>3.0</td>\n",
              "      <td>3.0</td>\n",
              "      <td>4.0</td>\n",
              "      <td>0.0</td>\n",
              "      <td>6.0</td>\n",
              "      <td>23.0</td>\n",
              "      <td>1.0</td>\n",
              "      <td>3.0</td>\n",
              "      <td>2.0</td>\n",
              "      <td>...</td>\n",
              "      <td>NaN</td>\n",
              "      <td>NaN</td>\n",
              "      <td>NaN</td>\n",
              "      <td>NaN</td>\n",
              "      <td>NaN</td>\n",
              "      <td>NaN</td>\n",
              "      <td>NaN</td>\n",
              "      <td>NaN</td>\n",
              "      <td>0.0</td>\n",
              "      <td>NaN</td>\n",
              "    </tr>\n",
              "  </tbody>\n",
              "</table>\n",
              "<p>3 rows × 264 columns</p>\n",
              "</div>"
            ],
            "text/plain": [
              "ACCIDENT    Collisions of trains, including collisions with obstacles within the clearance gauge  \\\n",
              "UNIT                                                                                      Number   \n",
              "GEO                                                                                      Austria   \n",
              "FREQ                                                                                      Annual   \n",
              "TIME_PERIOD                                                                                        \n",
              "2010-01-01                                                 3.0                                     \n",
              "2011-01-01                                                 2.0                                     \n",
              "2012-01-01                                                 1.0                                     \n",
              "\n",
              "ACCIDENT                                                         \\\n",
              "UNIT                                                              \n",
              "GEO         Belgium Bulgaria Switzerland Channel Tunnel Czechia   \n",
              "FREQ         Annual   Annual      Annual         Annual  Annual   \n",
              "TIME_PERIOD                                                       \n",
              "2010-01-01      5.0      2.0         5.0            0.0     3.0   \n",
              "2011-01-01      0.0      0.0         4.0            0.0     6.0   \n",
              "2012-01-01      3.0      3.0         4.0            0.0     6.0   \n",
              "\n",
              "ACCIDENT                                                                      \\\n",
              "UNIT                                                                           \n",
              "GEO         Germany (until 1990 former territory of the FRG) Denmark Estonia   \n",
              "FREQ                                                  Annual  Annual  Annual   \n",
              "TIME_PERIOD                                                                    \n",
              "2010-01-01                                              13.0     0.0     1.0   \n",
              "2011-01-01                                              18.0     1.0     0.0   \n",
              "2012-01-01                                              23.0     1.0     3.0   \n",
              "\n",
              "ACCIDENT                ...           Unknown                                 \\\n",
              "UNIT                    ...            Number                                  \n",
              "GEO         Greece      ...       Netherlands Norway Poland Portugal Romania   \n",
              "FREQ        Annual      ...            Annual Annual Annual   Annual  Annual   \n",
              "TIME_PERIOD             ...                                                    \n",
              "2010-01-01     4.0      ...               NaN    NaN    NaN      NaN     NaN   \n",
              "2011-01-01     1.0      ...               NaN    NaN    NaN      NaN     NaN   \n",
              "2012-01-01     2.0      ...               NaN    NaN    NaN      NaN     NaN   \n",
              "\n",
              "ACCIDENT                                                    \n",
              "UNIT                                                        \n",
              "GEO         Sweden Slovenia Slovakia Turkey United Kingdom  \n",
              "FREQ        Annual   Annual   Annual Annual         Annual  \n",
              "TIME_PERIOD                                                 \n",
              "2010-01-01     NaN      NaN      NaN    0.0            NaN  \n",
              "2011-01-01     NaN      NaN      NaN    0.0            NaN  \n",
              "2012-01-01     NaN      NaN      NaN    0.0            NaN  \n",
              "\n",
              "[3 rows x 264 columns]"
            ]
          },
          "metadata": {
            "tags": []
          },
          "execution_count": 35
        }
      ]
    },
    {
      "metadata": {
        "id": "QTfnAE0i7LqO",
        "colab_type": "text"
      },
      "cell_type": "markdown",
      "source": [
        "**4. OECD**   \n",
        "The Organisation for Economic Co-operation and Development is an intergovernmental economic organisation with 36 member countries, **to stimulate economic progress **\n",
        "\n",
        "http://www.oecd.org\n",
        "\n",
        "You have to specify OECD’s data set code.  \n",
        "\n",
        "To confirm data set code, access to each data -> Export -> SDMX Query. Following example is to download ‘Trade Union Density’ data which set code is ‘TUD’."
      ]
    },
    {
      "metadata": {
        "id": "rTrDZfku7C0H",
        "colab_type": "code",
        "colab": {
          "base_uri": "https://localhost:8080/",
          "height": 414
        },
        "outputId": "980db85c-ff55-4938-cbc2-556c4fa73d1e"
      },
      "cell_type": "code",
      "source": [
        "df = web.DataReader('TUD', 'oecd', end=datetime.datetime(2012, 1, 1))\n",
        "print(df.shape)\n",
        "df.head()"
      ],
      "execution_count": 40,
      "outputs": [
        {
          "output_type": "stream",
          "text": [
            "(3, 432)\n"
          ],
          "name": "stdout"
        },
        {
          "output_type": "execute_result",
          "data": {
            "text/html": [
              "<div>\n",
              "<style scoped>\n",
              "    .dataframe tbody tr th:only-of-type {\n",
              "        vertical-align: middle;\n",
              "    }\n",
              "\n",
              "    .dataframe tbody tr th {\n",
              "        vertical-align: top;\n",
              "    }\n",
              "\n",
              "    .dataframe thead tr th {\n",
              "        text-align: left;\n",
              "    }\n",
              "\n",
              "    .dataframe thead tr:last-of-type th {\n",
              "        text-align: right;\n",
              "    }\n",
              "</style>\n",
              "<table border=\"1\" class=\"dataframe\">\n",
              "  <thead>\n",
              "    <tr>\n",
              "      <th>Country</th>\n",
              "      <th colspan=\"10\" halign=\"left\">Iceland</th>\n",
              "      <th>...</th>\n",
              "      <th colspan=\"10\" halign=\"left\">Lithuania</th>\n",
              "    </tr>\n",
              "    <tr>\n",
              "      <th>Frequency</th>\n",
              "      <th colspan=\"10\" halign=\"left\">Annual</th>\n",
              "      <th>...</th>\n",
              "      <th colspan=\"10\" halign=\"left\">Annual</th>\n",
              "    </tr>\n",
              "    <tr>\n",
              "      <th>Source</th>\n",
              "      <th colspan=\"6\" halign=\"left\">Survey data</th>\n",
              "      <th colspan=\"4\" halign=\"left\">Administrative data</th>\n",
              "      <th>...</th>\n",
              "      <th colspan=\"4\" halign=\"left\">Survey data</th>\n",
              "      <th colspan=\"6\" halign=\"left\">Administrative data</th>\n",
              "    </tr>\n",
              "    <tr>\n",
              "      <th>Series</th>\n",
              "      <th colspan=\"2\" halign=\"left\">Union members</th>\n",
              "      <th colspan=\"2\" halign=\"left\">Trade union  density</th>\n",
              "      <th colspan=\"2\" halign=\"left\">Employees</th>\n",
              "      <th colspan=\"2\" halign=\"left\">Union members</th>\n",
              "      <th colspan=\"2\" halign=\"left\">Trade union  density</th>\n",
              "      <th>...</th>\n",
              "      <th colspan=\"2\" halign=\"left\">Trade union  density</th>\n",
              "      <th colspan=\"2\" halign=\"left\">Employees</th>\n",
              "      <th colspan=\"2\" halign=\"left\">Union members</th>\n",
              "      <th colspan=\"2\" halign=\"left\">Trade union  density</th>\n",
              "      <th colspan=\"2\" halign=\"left\">Employees</th>\n",
              "    </tr>\n",
              "    <tr>\n",
              "      <th>Measure</th>\n",
              "      <th>Thousands</th>\n",
              "      <th>Percentage</th>\n",
              "      <th>Thousands</th>\n",
              "      <th>Percentage</th>\n",
              "      <th>Thousands</th>\n",
              "      <th>Percentage</th>\n",
              "      <th>Thousands</th>\n",
              "      <th>Percentage</th>\n",
              "      <th>Thousands</th>\n",
              "      <th>Percentage</th>\n",
              "      <th>...</th>\n",
              "      <th>Thousands</th>\n",
              "      <th>Percentage</th>\n",
              "      <th>Thousands</th>\n",
              "      <th>Percentage</th>\n",
              "      <th>Thousands</th>\n",
              "      <th>Percentage</th>\n",
              "      <th>Thousands</th>\n",
              "      <th>Percentage</th>\n",
              "      <th>Thousands</th>\n",
              "      <th>Percentage</th>\n",
              "    </tr>\n",
              "    <tr>\n",
              "      <th>Year</th>\n",
              "      <th></th>\n",
              "      <th></th>\n",
              "      <th></th>\n",
              "      <th></th>\n",
              "      <th></th>\n",
              "      <th></th>\n",
              "      <th></th>\n",
              "      <th></th>\n",
              "      <th></th>\n",
              "      <th></th>\n",
              "      <th></th>\n",
              "      <th></th>\n",
              "      <th></th>\n",
              "      <th></th>\n",
              "      <th></th>\n",
              "      <th></th>\n",
              "      <th></th>\n",
              "      <th></th>\n",
              "      <th></th>\n",
              "      <th></th>\n",
              "      <th></th>\n",
              "    </tr>\n",
              "  </thead>\n",
              "  <tbody>\n",
              "    <tr>\n",
              "      <th>2010-01-01</th>\n",
              "      <td>NaN</td>\n",
              "      <td>NaN</td>\n",
              "      <td>NaN</td>\n",
              "      <td>NaN</td>\n",
              "      <td>NaN</td>\n",
              "      <td>NaN</td>\n",
              "      <td>83.0</td>\n",
              "      <td>NaN</td>\n",
              "      <td>NaN</td>\n",
              "      <td>78.524125</td>\n",
              "      <td>...</td>\n",
              "      <td>NaN</td>\n",
              "      <td>NaN</td>\n",
              "      <td>NaN</td>\n",
              "      <td>NaN</td>\n",
              "      <td>NaN</td>\n",
              "      <td>NaN</td>\n",
              "      <td>NaN</td>\n",
              "      <td>NaN</td>\n",
              "      <td>NaN</td>\n",
              "      <td>NaN</td>\n",
              "    </tr>\n",
              "    <tr>\n",
              "      <th>2011-01-01</th>\n",
              "      <td>NaN</td>\n",
              "      <td>NaN</td>\n",
              "      <td>NaN</td>\n",
              "      <td>NaN</td>\n",
              "      <td>NaN</td>\n",
              "      <td>NaN</td>\n",
              "      <td>NaN</td>\n",
              "      <td>NaN</td>\n",
              "      <td>NaN</td>\n",
              "      <td>NaN</td>\n",
              "      <td>...</td>\n",
              "      <td>NaN</td>\n",
              "      <td>NaN</td>\n",
              "      <td>NaN</td>\n",
              "      <td>NaN</td>\n",
              "      <td>NaN</td>\n",
              "      <td>NaN</td>\n",
              "      <td>NaN</td>\n",
              "      <td>NaN</td>\n",
              "      <td>NaN</td>\n",
              "      <td>NaN</td>\n",
              "    </tr>\n",
              "    <tr>\n",
              "      <th>2012-01-01</th>\n",
              "      <td>NaN</td>\n",
              "      <td>NaN</td>\n",
              "      <td>NaN</td>\n",
              "      <td>NaN</td>\n",
              "      <td>NaN</td>\n",
              "      <td>NaN</td>\n",
              "      <td>NaN</td>\n",
              "      <td>NaN</td>\n",
              "      <td>NaN</td>\n",
              "      <td>NaN</td>\n",
              "      <td>...</td>\n",
              "      <td>NaN</td>\n",
              "      <td>NaN</td>\n",
              "      <td>NaN</td>\n",
              "      <td>NaN</td>\n",
              "      <td>NaN</td>\n",
              "      <td>NaN</td>\n",
              "      <td>NaN</td>\n",
              "      <td>NaN</td>\n",
              "      <td>NaN</td>\n",
              "      <td>NaN</td>\n",
              "    </tr>\n",
              "  </tbody>\n",
              "</table>\n",
              "<p>3 rows × 432 columns</p>\n",
              "</div>"
            ],
            "text/plain": [
              "Country          Iceland                                                       \\\n",
              "Frequency         Annual                                                        \n",
              "Source       Survey data                                                        \n",
              "Series     Union members            Trade union  density            Employees   \n",
              "Measure        Thousands Percentage            Thousands Percentage Thousands   \n",
              "Year                                                                            \n",
              "2010-01-01           NaN        NaN                  NaN        NaN       NaN   \n",
              "2011-01-01           NaN        NaN                  NaN        NaN       NaN   \n",
              "2012-01-01           NaN        NaN                  NaN        NaN       NaN   \n",
              "\n",
              "Country                                                                    \\\n",
              "Frequency                                                                   \n",
              "Source                Administrative data                                   \n",
              "Series                      Union members            Trade union  density   \n",
              "Measure    Percentage           Thousands Percentage            Thousands   \n",
              "Year                                                                        \n",
              "2010-01-01        NaN                83.0        NaN                  NaN   \n",
              "2011-01-01        NaN                 NaN        NaN                  NaN   \n",
              "2012-01-01        NaN                 NaN        NaN                  NaN   \n",
              "\n",
              "Country                  ...                Lithuania                       \\\n",
              "Frequency                ...                   Annual                        \n",
              "Source                   ...              Survey data                        \n",
              "Series                   ...     Trade union  density            Employees   \n",
              "Measure    Percentage    ...                Thousands Percentage Thousands   \n",
              "Year                     ...                                                 \n",
              "2010-01-01  78.524125    ...                      NaN        NaN       NaN   \n",
              "2011-01-01        NaN    ...                      NaN        NaN       NaN   \n",
              "2012-01-01        NaN    ...                      NaN        NaN       NaN   \n",
              "\n",
              "Country                                                                    \\\n",
              "Frequency                                                                   \n",
              "Source                Administrative data                                   \n",
              "Series                      Union members            Trade union  density   \n",
              "Measure    Percentage           Thousands Percentage            Thousands   \n",
              "Year                                                                        \n",
              "2010-01-01        NaN                 NaN        NaN                  NaN   \n",
              "2011-01-01        NaN                 NaN        NaN                  NaN   \n",
              "2012-01-01        NaN                 NaN        NaN                  NaN   \n",
              "\n",
              "Country                                     \n",
              "Frequency                                   \n",
              "Source                                      \n",
              "Series                Employees             \n",
              "Measure    Percentage Thousands Percentage  \n",
              "Year                                        \n",
              "2010-01-01        NaN       NaN        NaN  \n",
              "2011-01-01        NaN       NaN        NaN  \n",
              "2012-01-01        NaN       NaN        NaN  \n",
              "\n",
              "[3 rows x 432 columns]"
            ]
          },
          "metadata": {
            "tags": []
          },
          "execution_count": 40
        }
      ]
    },
    {
      "metadata": {
        "id": "-ylOETof7Cx0",
        "colab_type": "code",
        "colab": {
          "base_uri": "https://localhost:8080/",
          "height": 105
        },
        "outputId": "69797c6e-b623-4dae-b39d-0ef02741fd64"
      },
      "cell_type": "code",
      "source": [
        "print(df.columns)\n",
        "print(len(df.columns))"
      ],
      "execution_count": 42,
      "outputs": [
        {
          "output_type": "stream",
          "text": [
            "MultiIndex(levels=[['Australia', 'Austria', 'Belgium', 'Canada', 'Chile', 'Czech Republic', 'Denmark', 'Estonia', 'Finland', 'France', 'Germany', 'Greece', 'Hungary', 'Iceland', 'Ireland', 'Israel', 'Italy', 'Japan', 'Korea', 'Latvia', 'Lithuania', 'Luxembourg', 'Mexico', 'Netherlands', 'New Zealand', 'Norway', 'Poland', 'Portugal', 'Slovak Republic', 'Slovenia', 'Spain', 'Sweden', 'Switzerland', 'Turkey', 'United Kingdom', 'United States'], ['Annual'], ['Administrative data', 'Survey data'], ['Employees', 'Trade union  density', 'Union members'], ['Percentage', 'Thousands']],\n",
            "           labels=[[13, 13, 13, 13, 13, 13, 13, 13, 13, 13, 13, 13, 21, 21, 21, 21, 21, 21, 21, 21, 21, 21, 21, 21, 0, 0, 0, 0, 0, 0, 0, 0, 0, 0, 0, 0, 18, 18, 18, 18, 18, 18, 18, 18, 18, 18, 18, 18, 19, 19, 19, 19, 19, 19, 19, 19, 19, 19, 19, 19, 7, 7, 7, 7, 7, 7, 7, 7, 7, 7, 7, 7, 24, 24, 24, 24, 24, 24, 24, 24, 24, 24, 24, 24, 11, 11, 11, 11, 11, 11, 11, 11, 11, 11, 11, 11, 16, 16, 16, 16, 16, 16, 16, 16, 16, 16, 16, 16, 28, 28, 28, 28, 28, 28, 28, 28, 28, 28, 28, 28, 9, 9, 9, 9, 9, 9, 9, 9, 9, 9, 9, 9, 22, 22, 22, 22, 22, 22, 22, 22, 22, 22, 22, 22, 3, 3, 3, 3, 3, 3, 3, 3, 3, 3, 3, 3, 35, 35, 35, 35, 35, 35, 35, 35, 35, 35, 35, 35, 32, 32, 32, 32, 32, 32, 32, 32, 32, 32, 32, 32, 14, 14, 14, 14, 14, 14, 14, 14, 14, 14, 14, 14, 10, 10, 10, 10, 10, 10, 10, 10, 10, 10, 10, 10, 5, 5, 5, 5, 5, 5, 5, 5, 5, 5, 5, 5, 31, 31, 31, 31, 31, 31, 31, 31, 31, 31, 31, 31, 23, 23, 23, 23, 23, 23, 23, 23, 23, 23, 23, 23, 34, 34, 34, 34, 34, 34, 34, 34, 34, 34, 34, 34, 1, 1, 1, 1, 1, 1, 1, 1, 1, 1, 1, 1, 8, 8, 8, 8, 8, 8, 8, 8, 8, 8, 8, 8, 15, 15, 15, 15, 15, 15, 15, 15, 15, 15, 15, 15, 12, 12, 12, 12, 12, 12, 12, 12, 12, 12, 12, 12, 25, 25, 25, 25, 25, 25, 25, 25, 25, 25, 25, 25, 29, 29, 29, 29, 29, 29, 29, 29, 29, 29, 29, 29, 6, 6, 6, 6, 6, 6, 6, 6, 6, 6, 6, 6, 33, 33, 33, 33, 33, 33, 33, 33, 33, 33, 33, 33, 4, 4, 4, 4, 4, 4, 4, 4, 4, 4, 4, 4, 17, 17, 17, 17, 17, 17, 17, 17, 17, 17, 17, 17, 27, 27, 27, 27, 27, 27, 27, 27, 27, 27, 27, 27, 30, 30, 30, 30, 30, 30, 30, 30, 30, 30, 30, 30, 26, 26, 26, 26, 26, 26, 26, 26, 26, 26, 26, 26, 2, 2, 2, 2, 2, 2, 2, 2, 2, 2, 2, 2, 20, 20, 20, 20, 20, 20, 20, 20, 20, 20, 20, 20], [0, 0, 0, 0, 0, 0, 0, 0, 0, 0, 0, 0, 0, 0, 0, 0, 0, 0, 0, 0, 0, 0, 0, 0, 0, 0, 0, 0, 0, 0, 0, 0, 0, 0, 0, 0, 0, 0, 0, 0, 0, 0, 0, 0, 0, 0, 0, 0, 0, 0, 0, 0, 0, 0, 0, 0, 0, 0, 0, 0, 0, 0, 0, 0, 0, 0, 0, 0, 0, 0, 0, 0, 0, 0, 0, 0, 0, 0, 0, 0, 0, 0, 0, 0, 0, 0, 0, 0, 0, 0, 0, 0, 0, 0, 0, 0, 0, 0, 0, 0, 0, 0, 0, 0, 0, 0, 0, 0, 0, 0, 0, 0, 0, 0, 0, 0, 0, 0, 0, 0, 0, 0, 0, 0, 0, 0, 0, 0, 0, 0, 0, 0, 0, 0, 0, 0, 0, 0, 0, 0, 0, 0, 0, 0, 0, 0, 0, 0, 0, 0, 0, 0, 0, 0, 0, 0, 0, 0, 0, 0, 0, 0, 0, 0, 0, 0, 0, 0, 0, 0, 0, 0, 0, 0, 0, 0, 0, 0, 0, 0, 0, 0, 0, 0, 0, 0, 0, 0, 0, 0, 0, 0, 0, 0, 0, 0, 0, 0, 0, 0, 0, 0, 0, 0, 0, 0, 0, 0, 0, 0, 0, 0, 0, 0, 0, 0, 0, 0, 0, 0, 0, 0, 0, 0, 0, 0, 0, 0, 0, 0, 0, 0, 0, 0, 0, 0, 0, 0, 0, 0, 0, 0, 0, 0, 0, 0, 0, 0, 0, 0, 0, 0, 0, 0, 0, 0, 0, 0, 0, 0, 0, 0, 0, 0, 0, 0, 0, 0, 0, 0, 0, 0, 0, 0, 0, 0, 0, 0, 0, 0, 0, 0, 0, 0, 0, 0, 0, 0, 0, 0, 0, 0, 0, 0, 0, 0, 0, 0, 0, 0, 0, 0, 0, 0, 0, 0, 0, 0, 0, 0, 0, 0, 0, 0, 0, 0, 0, 0, 0, 0, 0, 0, 0, 0, 0, 0, 0, 0, 0, 0, 0, 0, 0, 0, 0, 0, 0, 0, 0, 0, 0, 0, 0, 0, 0, 0, 0, 0, 0, 0, 0, 0, 0, 0, 0, 0, 0, 0, 0, 0, 0, 0, 0, 0, 0, 0, 0, 0, 0, 0, 0, 0, 0, 0, 0, 0, 0, 0, 0, 0, 0, 0, 0, 0, 0, 0, 0, 0, 0, 0, 0, 0, 0, 0, 0, 0, 0, 0, 0, 0, 0, 0, 0, 0, 0, 0, 0, 0, 0, 0, 0, 0, 0, 0, 0, 0, 0, 0, 0, 0, 0, 0, 0, 0, 0, 0, 0, 0, 0, 0, 0, 0], [1, 1, 1, 1, 1, 1, 0, 0, 0, 0, 0, 0, 1, 1, 1, 1, 1, 1, 0, 0, 0, 0, 0, 0, 1, 1, 1, 1, 1, 1, 0, 0, 0, 0, 0, 0, 1, 1, 1, 1, 1, 1, 0, 0, 0, 0, 0, 0, 1, 1, 1, 1, 1, 1, 0, 0, 0, 0, 0, 0, 1, 1, 1, 1, 1, 1, 0, 0, 0, 0, 0, 0, 1, 1, 1, 1, 1, 1, 0, 0, 0, 0, 0, 0, 1, 1, 1, 1, 1, 1, 0, 0, 0, 0, 0, 0, 1, 1, 1, 1, 1, 1, 0, 0, 0, 0, 0, 0, 1, 1, 1, 1, 1, 1, 0, 0, 0, 0, 0, 0, 1, 1, 1, 1, 1, 1, 0, 0, 0, 0, 0, 0, 1, 1, 1, 1, 1, 1, 0, 0, 0, 0, 0, 0, 1, 1, 1, 1, 1, 1, 0, 0, 0, 0, 0, 0, 1, 1, 1, 1, 1, 1, 0, 0, 0, 0, 0, 0, 1, 1, 1, 1, 1, 1, 0, 0, 0, 0, 0, 0, 1, 1, 1, 1, 1, 1, 0, 0, 0, 0, 0, 0, 1, 1, 1, 1, 1, 1, 0, 0, 0, 0, 0, 0, 1, 1, 1, 1, 1, 1, 0, 0, 0, 0, 0, 0, 1, 1, 1, 1, 1, 1, 0, 0, 0, 0, 0, 0, 1, 1, 1, 1, 1, 1, 0, 0, 0, 0, 0, 0, 1, 1, 1, 1, 1, 1, 0, 0, 0, 0, 0, 0, 1, 1, 1, 1, 1, 1, 0, 0, 0, 0, 0, 0, 1, 1, 1, 1, 1, 1, 0, 0, 0, 0, 0, 0, 1, 1, 1, 1, 1, 1, 0, 0, 0, 0, 0, 0, 1, 1, 1, 1, 1, 1, 0, 0, 0, 0, 0, 0, 1, 1, 1, 1, 1, 1, 0, 0, 0, 0, 0, 0, 1, 1, 1, 1, 1, 1, 0, 0, 0, 0, 0, 0, 1, 1, 1, 1, 1, 1, 0, 0, 0, 0, 0, 0, 1, 1, 1, 1, 1, 1, 0, 0, 0, 0, 0, 0, 1, 1, 1, 1, 1, 1, 0, 0, 0, 0, 0, 0, 1, 1, 1, 1, 1, 1, 0, 0, 0, 0, 0, 0, 1, 1, 1, 1, 1, 1, 0, 0, 0, 0, 0, 0, 1, 1, 1, 1, 1, 1, 0, 0, 0, 0, 0, 0, 1, 1, 1, 1, 1, 1, 0, 0, 0, 0, 0, 0, 1, 1, 1, 1, 1, 1, 0, 0, 0, 0, 0, 0, 1, 1, 1, 1, 1, 1, 0, 0, 0, 0, 0, 0], [2, 2, 1, 1, 0, 0, 2, 2, 1, 1, 0, 0, 2, 2, 1, 1, 0, 0, 2, 2, 1, 1, 0, 0, 2, 2, 1, 1, 0, 0, 2, 2, 1, 1, 0, 0, 2, 2, 1, 1, 0, 0, 2, 2, 1, 1, 0, 0, 2, 2, 1, 1, 0, 0, 2, 2, 1, 1, 0, 0, 2, 2, 1, 1, 0, 0, 2, 2, 1, 1, 0, 0, 2, 2, 1, 1, 0, 0, 2, 2, 1, 1, 0, 0, 2, 2, 1, 1, 0, 0, 2, 2, 1, 1, 0, 0, 2, 2, 1, 1, 0, 0, 2, 2, 1, 1, 0, 0, 2, 2, 1, 1, 0, 0, 2, 2, 1, 1, 0, 0, 2, 2, 1, 1, 0, 0, 2, 2, 1, 1, 0, 0, 2, 2, 1, 1, 0, 0, 2, 2, 1, 1, 0, 0, 2, 2, 1, 1, 0, 0, 2, 2, 1, 1, 0, 0, 2, 2, 1, 1, 0, 0, 2, 2, 1, 1, 0, 0, 2, 2, 1, 1, 0, 0, 2, 2, 1, 1, 0, 0, 2, 2, 1, 1, 0, 0, 2, 2, 1, 1, 0, 0, 2, 2, 1, 1, 0, 0, 2, 2, 1, 1, 0, 0, 2, 2, 1, 1, 0, 0, 2, 2, 1, 1, 0, 0, 2, 2, 1, 1, 0, 0, 2, 2, 1, 1, 0, 0, 2, 2, 1, 1, 0, 0, 2, 2, 1, 1, 0, 0, 2, 2, 1, 1, 0, 0, 2, 2, 1, 1, 0, 0, 2, 2, 1, 1, 0, 0, 2, 2, 1, 1, 0, 0, 2, 2, 1, 1, 0, 0, 2, 2, 1, 1, 0, 0, 2, 2, 1, 1, 0, 0, 2, 2, 1, 1, 0, 0, 2, 2, 1, 1, 0, 0, 2, 2, 1, 1, 0, 0, 2, 2, 1, 1, 0, 0, 2, 2, 1, 1, 0, 0, 2, 2, 1, 1, 0, 0, 2, 2, 1, 1, 0, 0, 2, 2, 1, 1, 0, 0, 2, 2, 1, 1, 0, 0, 2, 2, 1, 1, 0, 0, 2, 2, 1, 1, 0, 0, 2, 2, 1, 1, 0, 0, 2, 2, 1, 1, 0, 0, 2, 2, 1, 1, 0, 0, 2, 2, 1, 1, 0, 0, 2, 2, 1, 1, 0, 0, 2, 2, 1, 1, 0, 0, 2, 2, 1, 1, 0, 0, 2, 2, 1, 1, 0, 0, 2, 2, 1, 1, 0, 0, 2, 2, 1, 1, 0, 0, 2, 2, 1, 1, 0, 0, 2, 2, 1, 1, 0, 0, 2, 2, 1, 1, 0, 0, 2, 2, 1, 1, 0, 0], [1, 0, 1, 0, 1, 0, 1, 0, 1, 0, 1, 0, 1, 0, 1, 0, 1, 0, 1, 0, 1, 0, 1, 0, 1, 0, 1, 0, 1, 0, 1, 0, 1, 0, 1, 0, 1, 0, 1, 0, 1, 0, 1, 0, 1, 0, 1, 0, 1, 0, 1, 0, 1, 0, 1, 0, 1, 0, 1, 0, 1, 0, 1, 0, 1, 0, 1, 0, 1, 0, 1, 0, 1, 0, 1, 0, 1, 0, 1, 0, 1, 0, 1, 0, 1, 0, 1, 0, 1, 0, 1, 0, 1, 0, 1, 0, 1, 0, 1, 0, 1, 0, 1, 0, 1, 0, 1, 0, 1, 0, 1, 0, 1, 0, 1, 0, 1, 0, 1, 0, 1, 0, 1, 0, 1, 0, 1, 0, 1, 0, 1, 0, 1, 0, 1, 0, 1, 0, 1, 0, 1, 0, 1, 0, 1, 0, 1, 0, 1, 0, 1, 0, 1, 0, 1, 0, 1, 0, 1, 0, 1, 0, 1, 0, 1, 0, 1, 0, 1, 0, 1, 0, 1, 0, 1, 0, 1, 0, 1, 0, 1, 0, 1, 0, 1, 0, 1, 0, 1, 0, 1, 0, 1, 0, 1, 0, 1, 0, 1, 0, 1, 0, 1, 0, 1, 0, 1, 0, 1, 0, 1, 0, 1, 0, 1, 0, 1, 0, 1, 0, 1, 0, 1, 0, 1, 0, 1, 0, 1, 0, 1, 0, 1, 0, 1, 0, 1, 0, 1, 0, 1, 0, 1, 0, 1, 0, 1, 0, 1, 0, 1, 0, 1, 0, 1, 0, 1, 0, 1, 0, 1, 0, 1, 0, 1, 0, 1, 0, 1, 0, 1, 0, 1, 0, 1, 0, 1, 0, 1, 0, 1, 0, 1, 0, 1, 0, 1, 0, 1, 0, 1, 0, 1, 0, 1, 0, 1, 0, 1, 0, 1, 0, 1, 0, 1, 0, 1, 0, 1, 0, 1, 0, 1, 0, 1, 0, 1, 0, 1, 0, 1, 0, 1, 0, 1, 0, 1, 0, 1, 0, 1, 0, 1, 0, 1, 0, 1, 0, 1, 0, 1, 0, 1, 0, 1, 0, 1, 0, 1, 0, 1, 0, 1, 0, 1, 0, 1, 0, 1, 0, 1, 0, 1, 0, 1, 0, 1, 0, 1, 0, 1, 0, 1, 0, 1, 0, 1, 0, 1, 0, 1, 0, 1, 0, 1, 0, 1, 0, 1, 0, 1, 0, 1, 0, 1, 0, 1, 0, 1, 0, 1, 0, 1, 0, 1, 0, 1, 0, 1, 0, 1, 0, 1, 0, 1, 0, 1, 0, 1, 0, 1, 0, 1, 0, 1, 0, 1, 0, 1, 0, 1, 0]],\n",
            "           names=['Country', 'Frequency', 'Source', 'Series', 'Measure'])\n",
            "432\n"
          ],
          "name": "stdout"
        }
      ]
    },
    {
      "metadata": {
        "id": "3Tie696j9vpC",
        "colab_type": "text"
      },
      "cell_type": "markdown",
      "source": [
        "**5. World Bank**  \n",
        "users can easily access thousands of panel data series from the World Bank’s World Development Indicators by using the wb I/O functions."
      ]
    },
    {
      "metadata": {
        "id": "zkk9fTtr8RsB",
        "colab_type": "code",
        "colab": {
          "base_uri": "https://localhost:8080/",
          "height": 357
        },
        "outputId": "9c805488-558a-442a-a4e0-87609024ef39"
      },
      "cell_type": "code",
      "source": [
        "from pandas_datareader import wb\n",
        "mathces = wb.search('gdp.*capita.*const')\n",
        "print(mathces.shape)\n",
        "mathces.head()"
      ],
      "execution_count": 45,
      "outputs": [
        {
          "output_type": "stream",
          "text": [
            "(5, 7)\n"
          ],
          "name": "stdout"
        },
        {
          "output_type": "execute_result",
          "data": {
            "text/html": [
              "<div>\n",
              "<style scoped>\n",
              "    .dataframe tbody tr th:only-of-type {\n",
              "        vertical-align: middle;\n",
              "    }\n",
              "\n",
              "    .dataframe tbody tr th {\n",
              "        vertical-align: top;\n",
              "    }\n",
              "\n",
              "    .dataframe thead th {\n",
              "        text-align: right;\n",
              "    }\n",
              "</style>\n",
              "<table border=\"1\" class=\"dataframe\">\n",
              "  <thead>\n",
              "    <tr style=\"text-align: right;\">\n",
              "      <th></th>\n",
              "      <th>id</th>\n",
              "      <th>name</th>\n",
              "      <th>source</th>\n",
              "      <th>sourceNote</th>\n",
              "      <th>sourceOrganization</th>\n",
              "      <th>topics</th>\n",
              "      <th>unit</th>\n",
              "    </tr>\n",
              "  </thead>\n",
              "  <tbody>\n",
              "    <tr>\n",
              "      <th>646</th>\n",
              "      <td>6.0.GDPpc_constant</td>\n",
              "      <td>GDP per capita, PPP (constant 2011 internation...</td>\n",
              "      <td>LAC Equity Lab</td>\n",
              "      <td>GDP per capita based on purchasing power parit...</td>\n",
              "      <td>b'World Development Indicators (World Bank)'</td>\n",
              "      <td>Economy &amp; Growth</td>\n",
              "      <td></td>\n",
              "    </tr>\n",
              "    <tr>\n",
              "      <th>8445</th>\n",
              "      <td>NY.GDP.PCAP.KD</td>\n",
              "      <td>GDP per capita (constant 2010 US$)</td>\n",
              "      <td>World Development Indicators</td>\n",
              "      <td>GDP per capita is gross domestic product divid...</td>\n",
              "      <td>b'World Bank national accounts data, and OECD ...</td>\n",
              "      <td>Economy &amp; Growth</td>\n",
              "      <td></td>\n",
              "    </tr>\n",
              "    <tr>\n",
              "      <th>8447</th>\n",
              "      <td>NY.GDP.PCAP.KN</td>\n",
              "      <td>GDP per capita (constant LCU)</td>\n",
              "      <td>World Development Indicators</td>\n",
              "      <td>GDP per capita is gross domestic product divid...</td>\n",
              "      <td>b'World Bank national accounts data, and OECD ...</td>\n",
              "      <td>Economy &amp; Growth</td>\n",
              "      <td></td>\n",
              "    </tr>\n",
              "    <tr>\n",
              "      <th>8449</th>\n",
              "      <td>NY.GDP.PCAP.PP.KD</td>\n",
              "      <td>GDP per capita, PPP (constant 2011 internation...</td>\n",
              "      <td>World Development Indicators</td>\n",
              "      <td>GDP per capita based on purchasing power parit...</td>\n",
              "      <td>b'World Bank, International Comparison Program...</td>\n",
              "      <td>Economy &amp; Growth</td>\n",
              "      <td></td>\n",
              "    </tr>\n",
              "    <tr>\n",
              "      <th>8450</th>\n",
              "      <td>NY.GDP.PCAP.PP.KD.87</td>\n",
              "      <td>GDP per capita, PPP (constant 1987 internation...</td>\n",
              "      <td>WDI Database Archives</td>\n",
              "      <td></td>\n",
              "      <td>b''</td>\n",
              "      <td></td>\n",
              "      <td></td>\n",
              "    </tr>\n",
              "  </tbody>\n",
              "</table>\n",
              "</div>"
            ],
            "text/plain": [
              "                        id                                               name  \\\n",
              "646     6.0.GDPpc_constant  GDP per capita, PPP (constant 2011 internation...   \n",
              "8445        NY.GDP.PCAP.KD                 GDP per capita (constant 2010 US$)   \n",
              "8447        NY.GDP.PCAP.KN                      GDP per capita (constant LCU)   \n",
              "8449     NY.GDP.PCAP.PP.KD  GDP per capita, PPP (constant 2011 internation...   \n",
              "8450  NY.GDP.PCAP.PP.KD.87  GDP per capita, PPP (constant 1987 internation...   \n",
              "\n",
              "                            source  \\\n",
              "646                 LAC Equity Lab   \n",
              "8445  World Development Indicators   \n",
              "8447  World Development Indicators   \n",
              "8449  World Development Indicators   \n",
              "8450         WDI Database Archives   \n",
              "\n",
              "                                             sourceNote  \\\n",
              "646   GDP per capita based on purchasing power parit...   \n",
              "8445  GDP per capita is gross domestic product divid...   \n",
              "8447  GDP per capita is gross domestic product divid...   \n",
              "8449  GDP per capita based on purchasing power parit...   \n",
              "8450                                                      \n",
              "\n",
              "                                     sourceOrganization            topics unit  \n",
              "646        b'World Development Indicators (World Bank)'  Economy & Growth       \n",
              "8445  b'World Bank national accounts data, and OECD ...  Economy & Growth       \n",
              "8447  b'World Bank national accounts data, and OECD ...  Economy & Growth       \n",
              "8449  b'World Bank, International Comparison Program...  Economy & Growth       \n",
              "8450                                                b''                         "
            ]
          },
          "metadata": {
            "tags": []
          },
          "execution_count": 45
        }
      ]
    },
    {
      "metadata": {
        "id": "5j7e44gR-U88",
        "colab_type": "text"
      },
      "cell_type": "markdown",
      "source": [
        "\n",
        "\n",
        "```\n",
        "Then you would use the download function to acquire the data from the World Bank’s servers:\n",
        "```\n",
        "\n"
      ]
    },
    {
      "metadata": {
        "id": "JKgBX1gW8Rm3",
        "colab_type": "code",
        "colab": {
          "base_uri": "https://localhost:8080/",
          "height": 255
        },
        "outputId": "7431728a-2a55-4877-b6c0-a10ce6fa4a2c"
      },
      "cell_type": "code",
      "source": [
        "dat = wb.download(indicator='NY.GDP.PCAP.KD', country=['US', 'CA', 'MX'], start=2005, end=2008)\n",
        "print(dat)"
      ],
      "execution_count": 46,
      "outputs": [
        {
          "output_type": "stream",
          "text": [
            "                    NY.GDP.PCAP.KD\n",
            "country       year                \n",
            "Canada        2008    48510.567773\n",
            "              2007    48552.696431\n",
            "              2006    48035.035792\n",
            "              2005    47181.562394\n",
            "Mexico        2008     9347.524279\n",
            "              2007     9392.687112\n",
            "              2006     9327.736200\n",
            "              2005     9059.810486\n",
            "United States 2008    49364.644550\n",
            "              2007    49979.533843\n",
            "              2006    49575.401014\n",
            "              2005    48755.616061\n"
          ],
          "name": "stdout"
        }
      ]
    },
    {
      "metadata": {
        "id": "GWYfyf1m-m-m",
        "colab_type": "text"
      },
      "cell_type": "markdown",
      "source": [
        "\n",
        "\n",
        "```\n",
        "The resulting dataset is a properly formatted DataFrame with a hierarchical index, so it is easy to apply .groupby transformations to it:\n",
        "```\n",
        "\n"
      ]
    },
    {
      "metadata": {
        "id": "kGgqAGlr-zG3",
        "colab_type": "code",
        "colab": {
          "base_uri": "https://localhost:8080/",
          "height": 255
        },
        "outputId": "433996c7-59ff-4398-8525-d45139261965"
      },
      "cell_type": "code",
      "source": [
        "df =dat['NY.GDP.PCAP.KD']\n",
        "df"
      ],
      "execution_count": 49,
      "outputs": [
        {
          "output_type": "execute_result",
          "data": {
            "text/plain": [
              "country        year\n",
              "Canada         2008    48510.567773\n",
              "               2007    48552.696431\n",
              "               2006    48035.035792\n",
              "               2005    47181.562394\n",
              "Mexico         2008     9347.524279\n",
              "               2007     9392.687112\n",
              "               2006     9327.736200\n",
              "               2005     9059.810486\n",
              "United States  2008    49364.644550\n",
              "               2007    49979.533843\n",
              "               2006    49575.401014\n",
              "               2005    48755.616061\n",
              "Name: NY.GDP.PCAP.KD, dtype: float64"
            ]
          },
          "metadata": {
            "tags": []
          },
          "execution_count": 49
        }
      ]
    },
    {
      "metadata": {
        "id": "m3e3tw7X-zCM",
        "colab_type": "code",
        "colab": {
          "base_uri": "https://localhost:8080/",
          "height": 34
        },
        "outputId": "5c16b35b-0970-4fc2-eb6d-ad1e7a034908"
      },
      "cell_type": "code",
      "source": [
        "df.groupby(level=0)  "
      ],
      "execution_count": 52,
      "outputs": [
        {
          "output_type": "execute_result",
          "data": {
            "text/plain": [
              "<pandas.core.groupby.SeriesGroupBy object at 0x7fb1dab34390>"
            ]
          },
          "metadata": {
            "tags": []
          },
          "execution_count": 52
        }
      ]
    },
    {
      "metadata": {
        "id": "4SaQq54u8Rkk",
        "colab_type": "code",
        "colab": {
          "base_uri": "https://localhost:8080/",
          "height": 102
        },
        "outputId": "8abf5579-c986-41e1-aef1-87529b4e0902"
      },
      "cell_type": "code",
      "source": [
        "df.groupby(level=0).mean()    # calculate the average of all the years of the each country."
      ],
      "execution_count": 53,
      "outputs": [
        {
          "output_type": "execute_result",
          "data": {
            "text/plain": [
              "country\n",
              "Canada           48069.965598\n",
              "Mexico            9281.939519\n",
              "United States    49418.798867\n",
              "Name: NY.GDP.PCAP.KD, dtype: float64"
            ]
          },
          "metadata": {
            "tags": []
          },
          "execution_count": 53
        }
      ]
    },
    {
      "metadata": {
        "id": "xgIdh7SC8RhI",
        "colab_type": "code",
        "colab": {
          "base_uri": "https://localhost:8080/",
          "height": 119
        },
        "outputId": "e40ef3aa-d7b1-423e-e86d-4229e4f73d32"
      },
      "cell_type": "code",
      "source": [
        "df.groupby(level=1).mean()   # calculate the average of all the same year from each country."
      ],
      "execution_count": 54,
      "outputs": [
        {
          "output_type": "execute_result",
          "data": {
            "text/plain": [
              "year\n",
              "2005    34998.996314\n",
              "2006    35646.057668\n",
              "2007    35974.972462\n",
              "2008    35740.912201\n",
              "Name: NY.GDP.PCAP.KD, dtype: float64"
            ]
          },
          "metadata": {
            "tags": []
          },
          "execution_count": 54
        }
      ]
    },
    {
      "metadata": {
        "id": "8O7MwhmGCTiG",
        "colab_type": "text"
      },
      "cell_type": "markdown",
      "source": [
        "Now imagine you want to compare GDP  with cellphone contracts around the world."
      ]
    },
    {
      "metadata": {
        "id": "7UGXxjtQ7CuH",
        "colab_type": "code",
        "colab": {
          "base_uri": "https://localhost:8080/",
          "height": 111
        },
        "outputId": "0bbaabda-62c2-442b-eaf8-e574db033a33"
      },
      "cell_type": "code",
      "source": [
        "wb.search('cell.*%').iloc[:,:2]"
      ],
      "execution_count": 56,
      "outputs": [
        {
          "output_type": "execute_result",
          "data": {
            "text/html": [
              "<div>\n",
              "<style scoped>\n",
              "    .dataframe tbody tr th:only-of-type {\n",
              "        vertical-align: middle;\n",
              "    }\n",
              "\n",
              "    .dataframe tbody tr th {\n",
              "        vertical-align: top;\n",
              "    }\n",
              "\n",
              "    .dataframe thead th {\n",
              "        text-align: right;\n",
              "    }\n",
              "</style>\n",
              "<table border=\"1\" class=\"dataframe\">\n",
              "  <thead>\n",
              "    <tr style=\"text-align: right;\">\n",
              "      <th></th>\n",
              "      <th>id</th>\n",
              "      <th>name</th>\n",
              "    </tr>\n",
              "  </thead>\n",
              "  <tbody>\n",
              "    <tr>\n",
              "      <th>6797</th>\n",
              "      <td>IT.CEL.COVR.ZS</td>\n",
              "      <td>Population covered by mobile cellular network (%)</td>\n",
              "    </tr>\n",
              "    <tr>\n",
              "      <th>6852</th>\n",
              "      <td>IT.MOB.COV.ZS</td>\n",
              "      <td>Population coverage of mobile cellular telepho...</td>\n",
              "    </tr>\n",
              "  </tbody>\n",
              "</table>\n",
              "</div>"
            ],
            "text/plain": [
              "                  id                                               name\n",
              "6797  IT.CEL.COVR.ZS  Population covered by mobile cellular network (%)\n",
              "6852   IT.MOB.COV.ZS  Population coverage of mobile cellular telepho..."
            ]
          },
          "metadata": {
            "tags": []
          },
          "execution_count": 56
        }
      ]
    },
    {
      "metadata": {
        "id": "k3lZ0O4HCkQ3",
        "colab_type": "code",
        "colab": {
          "base_uri": "https://localhost:8080/",
          "height": 252
        },
        "outputId": "508dbdf2-e390-4552-95fb-2ea06fbf4520"
      },
      "cell_type": "code",
      "source": [
        "ind = ['NY.GDP.PCAP.KD', 'IT.MOB.COV.ZS']\n",
        "dat = wb.download(indicator=ind, country='all', start=2011, end=2011)\n",
        "print(dat.shape)\n",
        "dat.head()"
      ],
      "execution_count": 59,
      "outputs": [
        {
          "output_type": "stream",
          "text": [
            "(324, 2)\n"
          ],
          "name": "stdout"
        },
        {
          "output_type": "execute_result",
          "data": {
            "text/html": [
              "<div>\n",
              "<style scoped>\n",
              "    .dataframe tbody tr th:only-of-type {\n",
              "        vertical-align: middle;\n",
              "    }\n",
              "\n",
              "    .dataframe tbody tr th {\n",
              "        vertical-align: top;\n",
              "    }\n",
              "\n",
              "    .dataframe thead th {\n",
              "        text-align: right;\n",
              "    }\n",
              "</style>\n",
              "<table border=\"1\" class=\"dataframe\">\n",
              "  <thead>\n",
              "    <tr style=\"text-align: right;\">\n",
              "      <th></th>\n",
              "      <th></th>\n",
              "      <th>NY.GDP.PCAP.KD</th>\n",
              "      <th>IT.MOB.COV.ZS</th>\n",
              "    </tr>\n",
              "    <tr>\n",
              "      <th>country</th>\n",
              "      <th>year</th>\n",
              "      <th></th>\n",
              "      <th></th>\n",
              "    </tr>\n",
              "  </thead>\n",
              "  <tbody>\n",
              "    <tr>\n",
              "      <th>Arab World</th>\n",
              "      <th>2011</th>\n",
              "      <td>5990.917180</td>\n",
              "      <td>NaN</td>\n",
              "    </tr>\n",
              "    <tr>\n",
              "      <th>Caribbean small states</th>\n",
              "      <th>2011</th>\n",
              "      <td>9100.464272</td>\n",
              "      <td>NaN</td>\n",
              "    </tr>\n",
              "    <tr>\n",
              "      <th>Central Europe and the Baltics</th>\n",
              "      <th>2011</th>\n",
              "      <td>13000.437357</td>\n",
              "      <td>NaN</td>\n",
              "    </tr>\n",
              "    <tr>\n",
              "      <th>Early-demographic dividend</th>\n",
              "      <th>2011</th>\n",
              "      <td>3038.491985</td>\n",
              "      <td>NaN</td>\n",
              "    </tr>\n",
              "    <tr>\n",
              "      <th>East Asia &amp; Pacific</th>\n",
              "      <th>2011</th>\n",
              "      <td>7977.522825</td>\n",
              "      <td>NaN</td>\n",
              "    </tr>\n",
              "  </tbody>\n",
              "</table>\n",
              "</div>"
            ],
            "text/plain": [
              "                                     NY.GDP.PCAP.KD  IT.MOB.COV.ZS\n",
              "country                        year                               \n",
              "Arab World                     2011     5990.917180            NaN\n",
              "Caribbean small states         2011     9100.464272            NaN\n",
              "Central Europe and the Baltics 2011    13000.437357            NaN\n",
              "Early-demographic dividend     2011     3038.491985            NaN\n",
              "East Asia & Pacific            2011     7977.522825            NaN"
            ]
          },
          "metadata": {
            "tags": []
          },
          "execution_count": 59
        }
      ]
    },
    {
      "metadata": {
        "id": "qu9MslOSCrcV",
        "colab_type": "code",
        "colab": {
          "base_uri": "https://localhost:8080/",
          "height": 97
        },
        "outputId": "c1646d3f-b01c-483d-a931-869c8d8d5fab"
      },
      "cell_type": "code",
      "source": [
        "df = dat.dropna()    # delete everything from the dataset  # All details\n",
        "print(df.shape)\n",
        "df.head()"
      ],
      "execution_count": 71,
      "outputs": [
        {
          "output_type": "stream",
          "text": [
            "(0, 2)\n"
          ],
          "name": "stdout"
        },
        {
          "output_type": "execute_result",
          "data": {
            "text/html": [
              "<div>\n",
              "<style scoped>\n",
              "    .dataframe tbody tr th:only-of-type {\n",
              "        vertical-align: middle;\n",
              "    }\n",
              "\n",
              "    .dataframe tbody tr th {\n",
              "        vertical-align: top;\n",
              "    }\n",
              "\n",
              "    .dataframe thead th {\n",
              "        text-align: right;\n",
              "    }\n",
              "</style>\n",
              "<table border=\"1\" class=\"dataframe\">\n",
              "  <thead>\n",
              "    <tr style=\"text-align: right;\">\n",
              "      <th></th>\n",
              "      <th></th>\n",
              "      <th>gdp</th>\n",
              "      <th>cellphone</th>\n",
              "    </tr>\n",
              "    <tr>\n",
              "      <th>country</th>\n",
              "      <th>year</th>\n",
              "      <th></th>\n",
              "      <th></th>\n",
              "    </tr>\n",
              "  </thead>\n",
              "  <tbody>\n",
              "  </tbody>\n",
              "</table>\n",
              "</div>"
            ],
            "text/plain": [
              "Empty DataFrame\n",
              "Columns: [gdp, cellphone]\n",
              "Index: []"
            ]
          },
          "metadata": {
            "tags": []
          },
          "execution_count": 71
        }
      ]
    },
    {
      "metadata": {
        "id": "DRYUmp2GCkM2",
        "colab_type": "code",
        "colab": {
          "base_uri": "https://localhost:8080/",
          "height": 80
        },
        "outputId": "6274e7e0-6b68-45e0-e3ae-33fbb0c57ea5"
      },
      "cell_type": "code",
      "source": [
        "df.columns = ['gdp', 'cellphone']    # replace the columns name\n",
        "df.head()"
      ],
      "execution_count": 65,
      "outputs": [
        {
          "output_type": "execute_result",
          "data": {
            "text/html": [
              "<div>\n",
              "<style scoped>\n",
              "    .dataframe tbody tr th:only-of-type {\n",
              "        vertical-align: middle;\n",
              "    }\n",
              "\n",
              "    .dataframe tbody tr th {\n",
              "        vertical-align: top;\n",
              "    }\n",
              "\n",
              "    .dataframe thead th {\n",
              "        text-align: right;\n",
              "    }\n",
              "</style>\n",
              "<table border=\"1\" class=\"dataframe\">\n",
              "  <thead>\n",
              "    <tr style=\"text-align: right;\">\n",
              "      <th></th>\n",
              "      <th></th>\n",
              "      <th>gdp</th>\n",
              "      <th>cellphone</th>\n",
              "    </tr>\n",
              "    <tr>\n",
              "      <th>country</th>\n",
              "      <th>year</th>\n",
              "      <th></th>\n",
              "      <th></th>\n",
              "    </tr>\n",
              "  </thead>\n",
              "  <tbody>\n",
              "  </tbody>\n",
              "</table>\n",
              "</div>"
            ],
            "text/plain": [
              "Empty DataFrame\n",
              "Columns: [gdp, cellphone]\n",
              "Index: []"
            ]
          },
          "metadata": {
            "tags": []
          },
          "execution_count": 65
        }
      ]
    },
    {
      "metadata": {
        "id": "U-2SczYSGiAM",
        "colab_type": "text"
      },
      "cell_type": "markdown",
      "source": [
        "**5. FRED**"
      ]
    },
    {
      "metadata": {
        "id": "E40a80Gvk0V2",
        "colab_type": "code",
        "colab": {
          "base_uri": "https://localhost:8080/",
          "height": 252
        },
        "outputId": "1fbb3d56-8c15-426d-81da-c8a27723840e"
      },
      "cell_type": "code",
      "source": [
        "import pandas_datareader.data as web\n",
        "\n",
        "import datetime\n",
        "\n",
        "start = datetime.datetime(2010, 1, 1)\n",
        "\n",
        "end = datetime.datetime(2013, 1, 27)\n",
        "\n",
        "gdp = web.DataReader('GDP', 'fred', start, end)\n",
        "\n",
        "print(gdp.shape)\n",
        "gdp.head()"
      ],
      "execution_count": 73,
      "outputs": [
        {
          "output_type": "stream",
          "text": [
            "(13, 1)\n"
          ],
          "name": "stdout"
        },
        {
          "output_type": "execute_result",
          "data": {
            "text/html": [
              "<div>\n",
              "<style scoped>\n",
              "    .dataframe tbody tr th:only-of-type {\n",
              "        vertical-align: middle;\n",
              "    }\n",
              "\n",
              "    .dataframe tbody tr th {\n",
              "        vertical-align: top;\n",
              "    }\n",
              "\n",
              "    .dataframe thead th {\n",
              "        text-align: right;\n",
              "    }\n",
              "</style>\n",
              "<table border=\"1\" class=\"dataframe\">\n",
              "  <thead>\n",
              "    <tr style=\"text-align: right;\">\n",
              "      <th></th>\n",
              "      <th>GDP</th>\n",
              "    </tr>\n",
              "    <tr>\n",
              "      <th>DATE</th>\n",
              "      <th></th>\n",
              "    </tr>\n",
              "  </thead>\n",
              "  <tbody>\n",
              "    <tr>\n",
              "      <th>2010-01-01</th>\n",
              "      <td>14721.350</td>\n",
              "    </tr>\n",
              "    <tr>\n",
              "      <th>2010-04-01</th>\n",
              "      <td>14926.098</td>\n",
              "    </tr>\n",
              "    <tr>\n",
              "      <th>2010-07-01</th>\n",
              "      <td>15079.917</td>\n",
              "    </tr>\n",
              "    <tr>\n",
              "      <th>2010-10-01</th>\n",
              "      <td>15240.843</td>\n",
              "    </tr>\n",
              "    <tr>\n",
              "      <th>2011-01-01</th>\n",
              "      <td>15285.828</td>\n",
              "    </tr>\n",
              "  </tbody>\n",
              "</table>\n",
              "</div>"
            ],
            "text/plain": [
              "                  GDP\n",
              "DATE                 \n",
              "2010-01-01  14721.350\n",
              "2010-04-01  14926.098\n",
              "2010-07-01  15079.917\n",
              "2010-10-01  15240.843\n",
              "2011-01-01  15285.828"
            ]
          },
          "metadata": {
            "tags": []
          },
          "execution_count": 73
        }
      ]
    },
    {
      "metadata": {
        "id": "LNKuHdOHk0as",
        "colab_type": "code",
        "colab": {
          "base_uri": "https://localhost:8080/",
          "height": 51
        },
        "outputId": "a14359fa-fc32-48e4-8e20-7ff51854565e"
      },
      "cell_type": "code",
      "source": [
        "gdp.ix['2010-01-01']"
      ],
      "execution_count": 75,
      "outputs": [
        {
          "output_type": "execute_result",
          "data": {
            "text/plain": [
              "GDP    14721.35\n",
              "Name: 2010-01-01 00:00:00, dtype: float64"
            ]
          },
          "metadata": {
            "tags": []
          },
          "execution_count": 75
        }
      ]
    },
    {
      "metadata": {
        "id": "pzCdG1iXk0ig",
        "colab_type": "code",
        "colab": {}
      },
      "cell_type": "code",
      "source": [
        ""
      ],
      "execution_count": 0,
      "outputs": []
    },
    {
      "metadata": {
        "id": "7FmDJA8Uk0kv",
        "colab_type": "code",
        "colab": {}
      },
      "cell_type": "code",
      "source": [
        ""
      ],
      "execution_count": 0,
      "outputs": []
    },
    {
      "metadata": {
        "id": "2LbYIOPsk0oB",
        "colab_type": "code",
        "colab": {}
      },
      "cell_type": "code",
      "source": [
        ""
      ],
      "execution_count": 0,
      "outputs": []
    },
    {
      "metadata": {
        "id": "SGreNK-Lk0qz",
        "colab_type": "code",
        "colab": {}
      },
      "cell_type": "code",
      "source": [
        ""
      ],
      "execution_count": 0,
      "outputs": []
    },
    {
      "metadata": {
        "id": "xfoW6XxBk0hB",
        "colab_type": "code",
        "colab": {}
      },
      "cell_type": "code",
      "source": [
        ""
      ],
      "execution_count": 0,
      "outputs": []
    },
    {
      "metadata": {
        "id": "PUHaRHUik0RL",
        "colab_type": "code",
        "colab": {}
      },
      "cell_type": "code",
      "source": [
        ""
      ],
      "execution_count": 0,
      "outputs": []
    }
  ]
}